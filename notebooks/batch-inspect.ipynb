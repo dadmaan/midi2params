{
 "cells": [
  {
   "cell_type": "code",
   "execution_count": 1,
   "metadata": {},
   "outputs": [
    {
     "name": "stdout",
     "output_type": "stream",
     "text": [
      "getting config\n",
      "getting dataset\n",
      "loading in dataset fully\n",
      "getting train\n",
      "USING AUDIO\n",
      "train is of length 104\n",
      "getting val\n",
      "USING AUDIO\n",
      "val is of length 21\n",
      "getting test\n",
      "USING AUDIO\n",
      "test is of length 27\n",
      "making dataloaders\n",
      "loading model\n",
      "defining loss function\n",
      "defining optimizer\n"
     ]
    }
   ],
   "source": [
    "%run ../midi2params/interact.py"
   ]
  },
  {
   "cell_type": "code",
   "execution_count": 2,
   "metadata": {},
   "outputs": [],
   "source": [
    "for batch in val_loader:\n",
    "    pass"
   ]
  },
  {
   "cell_type": "code",
   "execution_count": 10,
   "metadata": {},
   "outputs": [],
   "source": [
    "#batch = trim_and_preprocess(batch, config)"
   ]
  },
  {
   "cell_type": "code",
   "execution_count": 3,
   "metadata": {},
   "outputs": [],
   "source": [
    "for k, arr in batch.items():\n",
    "    batch[k] = to_numpy(arr)"
   ]
  },
  {
   "cell_type": "code",
   "execution_count": 6,
   "metadata": {},
   "outputs": [
    {
     "data": {
      "text/plain": [
       "(21, 1250)"
      ]
     },
     "execution_count": 6,
     "metadata": {},
     "output_type": "execute_result"
    }
   ],
   "source": [
    "batch['loudness_db'].shape"
   ]
  },
  {
   "cell_type": "code",
   "execution_count": null,
   "metadata": {},
   "outputs": [],
   "source": []
  },
  {
   "cell_type": "code",
   "execution_count": 4,
   "metadata": {},
   "outputs": [
    {
     "ename": "ValueError",
     "evalue": "x and y must have same first dimension, but have shapes (1000,) and (1250,)",
     "output_type": "error",
     "traceback": [
      "\u001b[0;31m---------------------------------------------------------------------------\u001b[0m",
      "\u001b[0;31mValueError\u001b[0m                                Traceback (most recent call last)",
      "\u001b[0;32m<ipython-input-4-3b32a25fbf6f>\u001b[0m in \u001b[0;36m<module>\u001b[0;34m\u001b[0m\n\u001b[1;32m     18\u001b[0m          \u001b[0mnormalize\u001b[0m\u001b[0;34m(\u001b[0m\u001b[0mbatch\u001b[0m\u001b[0;34m[\u001b[0m\u001b[0;34m'loudness_db'\u001b[0m\u001b[0;34m]\u001b[0m\u001b[0;34m[\u001b[0m\u001b[0mi\u001b[0m\u001b[0;34m]\u001b[0m\u001b[0;34m)\u001b[0m\u001b[0;34m,\u001b[0m\u001b[0;34m\u001b[0m\u001b[0;34m\u001b[0m\u001b[0m\n\u001b[1;32m     19\u001b[0m          \u001b[0malpha\u001b[0m\u001b[0;34m=\u001b[0m\u001b[0;36m0.75\u001b[0m\u001b[0;34m,\u001b[0m\u001b[0;34m\u001b[0m\u001b[0;34m\u001b[0m\u001b[0m\n\u001b[0;32m---> 20\u001b[0;31m          label='GT loudness')\n\u001b[0m\u001b[1;32m     21\u001b[0m plt.plot(np.arange(start_clip, end_clip, 1/frame_rate),\n\u001b[1;32m     22\u001b[0m          \u001b[0mnormalize\u001b[0m\u001b[0;34m(\u001b[0m\u001b[0mnp\u001b[0m\u001b[0;34m.\u001b[0m\u001b[0mload\u001b[0m\u001b[0;34m(\u001b[0m\u001b[0;34m'ld_predi.npy'\u001b[0m\u001b[0;34m)\u001b[0m\u001b[0;34m)\u001b[0m\u001b[0;34m,\u001b[0m\u001b[0;34m\u001b[0m\u001b[0;34m\u001b[0m\u001b[0m\n",
      "\u001b[0;32m~/.local/lib/python3.7/site-packages/matplotlib/pyplot.py\u001b[0m in \u001b[0;36mplot\u001b[0;34m(scalex, scaley, data, *args, **kwargs)\u001b[0m\n\u001b[1;32m   2823\u001b[0m     return gca().plot(\n\u001b[1;32m   2824\u001b[0m         \u001b[0;34m*\u001b[0m\u001b[0margs\u001b[0m\u001b[0;34m,\u001b[0m \u001b[0mscalex\u001b[0m\u001b[0;34m=\u001b[0m\u001b[0mscalex\u001b[0m\u001b[0;34m,\u001b[0m \u001b[0mscaley\u001b[0m\u001b[0;34m=\u001b[0m\u001b[0mscaley\u001b[0m\u001b[0;34m,\u001b[0m\u001b[0;34m\u001b[0m\u001b[0;34m\u001b[0m\u001b[0m\n\u001b[0;32m-> 2825\u001b[0;31m         **({\"data\": data} if data is not None else {}), **kwargs)\n\u001b[0m\u001b[1;32m   2826\u001b[0m \u001b[0;34m\u001b[0m\u001b[0m\n\u001b[1;32m   2827\u001b[0m \u001b[0;34m\u001b[0m\u001b[0m\n",
      "\u001b[0;32m~/.local/lib/python3.7/site-packages/matplotlib/axes/_axes.py\u001b[0m in \u001b[0;36mplot\u001b[0;34m(self, scalex, scaley, data, *args, **kwargs)\u001b[0m\n\u001b[1;32m   1741\u001b[0m         \"\"\"\n\u001b[1;32m   1742\u001b[0m         \u001b[0mkwargs\u001b[0m \u001b[0;34m=\u001b[0m \u001b[0mcbook\u001b[0m\u001b[0;34m.\u001b[0m\u001b[0mnormalize_kwargs\u001b[0m\u001b[0;34m(\u001b[0m\u001b[0mkwargs\u001b[0m\u001b[0;34m,\u001b[0m \u001b[0mmlines\u001b[0m\u001b[0;34m.\u001b[0m\u001b[0mLine2D\u001b[0m\u001b[0;34m)\u001b[0m\u001b[0;34m\u001b[0m\u001b[0;34m\u001b[0m\u001b[0m\n\u001b[0;32m-> 1743\u001b[0;31m         \u001b[0mlines\u001b[0m \u001b[0;34m=\u001b[0m \u001b[0;34m[\u001b[0m\u001b[0;34m*\u001b[0m\u001b[0mself\u001b[0m\u001b[0;34m.\u001b[0m\u001b[0m_get_lines\u001b[0m\u001b[0;34m(\u001b[0m\u001b[0;34m*\u001b[0m\u001b[0margs\u001b[0m\u001b[0;34m,\u001b[0m \u001b[0mdata\u001b[0m\u001b[0;34m=\u001b[0m\u001b[0mdata\u001b[0m\u001b[0;34m,\u001b[0m \u001b[0;34m**\u001b[0m\u001b[0mkwargs\u001b[0m\u001b[0;34m)\u001b[0m\u001b[0;34m]\u001b[0m\u001b[0;34m\u001b[0m\u001b[0;34m\u001b[0m\u001b[0m\n\u001b[0m\u001b[1;32m   1744\u001b[0m         \u001b[0;32mfor\u001b[0m \u001b[0mline\u001b[0m \u001b[0;32min\u001b[0m \u001b[0mlines\u001b[0m\u001b[0;34m:\u001b[0m\u001b[0;34m\u001b[0m\u001b[0;34m\u001b[0m\u001b[0m\n\u001b[1;32m   1745\u001b[0m             \u001b[0mself\u001b[0m\u001b[0;34m.\u001b[0m\u001b[0madd_line\u001b[0m\u001b[0;34m(\u001b[0m\u001b[0mline\u001b[0m\u001b[0;34m)\u001b[0m\u001b[0;34m\u001b[0m\u001b[0;34m\u001b[0m\u001b[0m\n",
      "\u001b[0;32m~/.local/lib/python3.7/site-packages/matplotlib/axes/_base.py\u001b[0m in \u001b[0;36m__call__\u001b[0;34m(self, data, *args, **kwargs)\u001b[0m\n\u001b[1;32m    271\u001b[0m                 \u001b[0mthis\u001b[0m \u001b[0;34m+=\u001b[0m \u001b[0margs\u001b[0m\u001b[0;34m[\u001b[0m\u001b[0;36m0\u001b[0m\u001b[0;34m]\u001b[0m\u001b[0;34m,\u001b[0m\u001b[0;34m\u001b[0m\u001b[0;34m\u001b[0m\u001b[0m\n\u001b[1;32m    272\u001b[0m                 \u001b[0margs\u001b[0m \u001b[0;34m=\u001b[0m \u001b[0margs\u001b[0m\u001b[0;34m[\u001b[0m\u001b[0;36m1\u001b[0m\u001b[0;34m:\u001b[0m\u001b[0;34m]\u001b[0m\u001b[0;34m\u001b[0m\u001b[0;34m\u001b[0m\u001b[0m\n\u001b[0;32m--> 273\u001b[0;31m             \u001b[0;32myield\u001b[0m \u001b[0;32mfrom\u001b[0m \u001b[0mself\u001b[0m\u001b[0;34m.\u001b[0m\u001b[0m_plot_args\u001b[0m\u001b[0;34m(\u001b[0m\u001b[0mthis\u001b[0m\u001b[0;34m,\u001b[0m \u001b[0mkwargs\u001b[0m\u001b[0;34m)\u001b[0m\u001b[0;34m\u001b[0m\u001b[0;34m\u001b[0m\u001b[0m\n\u001b[0m\u001b[1;32m    274\u001b[0m \u001b[0;34m\u001b[0m\u001b[0m\n\u001b[1;32m    275\u001b[0m     \u001b[0;32mdef\u001b[0m \u001b[0mget_next_color\u001b[0m\u001b[0;34m(\u001b[0m\u001b[0mself\u001b[0m\u001b[0;34m)\u001b[0m\u001b[0;34m:\u001b[0m\u001b[0;34m\u001b[0m\u001b[0;34m\u001b[0m\u001b[0m\n",
      "\u001b[0;32m~/.local/lib/python3.7/site-packages/matplotlib/axes/_base.py\u001b[0m in \u001b[0;36m_plot_args\u001b[0;34m(self, tup, kwargs)\u001b[0m\n\u001b[1;32m    397\u001b[0m \u001b[0;34m\u001b[0m\u001b[0m\n\u001b[1;32m    398\u001b[0m         \u001b[0;32mif\u001b[0m \u001b[0mx\u001b[0m\u001b[0;34m.\u001b[0m\u001b[0mshape\u001b[0m\u001b[0;34m[\u001b[0m\u001b[0;36m0\u001b[0m\u001b[0;34m]\u001b[0m \u001b[0;34m!=\u001b[0m \u001b[0my\u001b[0m\u001b[0;34m.\u001b[0m\u001b[0mshape\u001b[0m\u001b[0;34m[\u001b[0m\u001b[0;36m0\u001b[0m\u001b[0;34m]\u001b[0m\u001b[0;34m:\u001b[0m\u001b[0;34m\u001b[0m\u001b[0;34m\u001b[0m\u001b[0m\n\u001b[0;32m--> 399\u001b[0;31m             raise ValueError(f\"x and y must have same first dimension, but \"\n\u001b[0m\u001b[1;32m    400\u001b[0m                              f\"have shapes {x.shape} and {y.shape}\")\n\u001b[1;32m    401\u001b[0m         \u001b[0;32mif\u001b[0m \u001b[0mx\u001b[0m\u001b[0;34m.\u001b[0m\u001b[0mndim\u001b[0m \u001b[0;34m>\u001b[0m \u001b[0;36m2\u001b[0m \u001b[0;32mor\u001b[0m \u001b[0my\u001b[0m\u001b[0;34m.\u001b[0m\u001b[0mndim\u001b[0m \u001b[0;34m>\u001b[0m \u001b[0;36m2\u001b[0m\u001b[0;34m:\u001b[0m\u001b[0;34m\u001b[0m\u001b[0;34m\u001b[0m\u001b[0m\n",
      "\u001b[0;31mValueError\u001b[0m: x and y must have same first dimension, but have shapes (1000,) and (1250,)"
     ]
    },
    {
     "data": {
      "image/png": "[encoded data removed]",
      "text/plain": [
       "<Figure size 1152x288 with 1 Axes>"
      ]
     },
     "metadata": {
      "needs_background": "light"
     },
     "output_type": "display_data"
    }
   ],
   "source": [
    "normalize = lambda x: (x - x.min()) / (x.max() - x.min())\n",
    "i = 1\n",
    "start_clip = 0\n",
    "end_clip = 4\n",
    "fs = 16000\n",
    "frame_rate = 250\n",
    "\n",
    "onsets = np.where(batch['onset_arr'][i] == 1)[0]\n",
    "offsets = np.where(batch['offset_arr'][i] == 1)[0]\n",
    "\n",
    "plt.figure(figsize=(16, 4))\n",
    "plt.yticks([])\n",
    "#plt.plot(np.arange(start_clip, end_clip, 1/frame_rate),\n",
    "#         normalize(batch['f0'][i]),\n",
    "#         alpha=0.75,\n",
    "#         label='GT f0')\n",
    "plt.plot(np.arange(start_clip, end_clip, 1/frame_rate),\n",
    "         normalize(batch['loudness_db'][i]),\n",
    "         alpha=0.75,\n",
    "         label='GT loudness')\n",
    "plt.plot(np.arange(start_clip, end_clip, 1/frame_rate),\n",
    "         normalize(np.load('ld_predi.npy')),\n",
    "         alpha=0.75,\n",
    "         label='predicted loudness')\n",
    "#plt.plot(np.arange(start_clip, end_clip, 1/frame_rate),\n",
    "#         normalize(batch['x'][i][:,131+121:].argmax(-1)),\n",
    "#         alpha=0.75,\n",
    "#         label='GT loudness (dequant-quant from \\'x\\')')\n",
    "plt.plot(onsets / frame_rate - start_clip,\n",
    "         [0 for o in onsets],\n",
    "         '^',\n",
    "         label='midi onsets')\n",
    "#plt.plot(offsets / frame_rate - start_clip,\n",
    "#         [0 for o in offsets],\n",
    "#         '^',\n",
    "#         label='midi offsets')\n",
    "#plt.plot(np.arange(start_clip, end_clip, 1/frame_rate),\n",
    "#         normalize(batch['x'][i][:,:129].argmax(-1)),#normalize(batch['pitches'][i]),\n",
    "#         alpha=0.75,\n",
    "#         label='pitch')\n",
    "plt.xlim(start_clip, end_clip)\n",
    "plt.legend(loc='upper right')"
   ]
  },
  {
   "cell_type": "code",
   "execution_count": null,
   "metadata": {},
   "outputs": [],
   "source": [
    "model = load_best_model(config, fpath='/juice/scr/rjcaste/curis/wavegenie/wandb/run-20200823_200211-fv0s07yi/best_model.pt')"
   ]
  },
  {
   "cell_type": "code",
   "execution_count": null,
   "metadata": {},
   "outputs": [],
   "source": [
    "batch['x'] = torch.Tensor(batch['x']).cuda()"
   ]
  },
  {
   "cell_type": "code",
   "execution_count": null,
   "metadata": {},
   "outputs": [],
   "source": [
    "cent_logits, ld_logits = model(batch)"
   ]
  },
  {
   "cell_type": "code",
   "execution_count": null,
   "metadata": {},
   "outputs": [],
   "source": [
    "plt.figure(figsize=(16,4))\n",
    "plt.imshow(F.softmax(ld_logits[i], dim=-1).cpu().detach().numpy().T, origin='lower', cmap=plt.get_cmap('viridis'))"
   ]
  },
  {
   "cell_type": "code",
   "execution_count": null,
   "metadata": {},
   "outputs": [],
   "source": [
    "batch['onset_arr'] = torch.Tensor(batch['onset_arr']).cuda()\n",
    "batch['offset_arr'] = torch.Tensor(batch['offset_arr']).cuda()"
   ]
  },
  {
   "cell_type": "code",
   "execution_count": null,
   "metadata": {},
   "outputs": [],
   "source": [
    "batch['pitches'] = torch.Tensor(batch['pitches']).cuda()"
   ]
  },
  {
   "cell_type": "code",
   "execution_count": null,
   "metadata": {},
   "outputs": [],
   "source": [
    "cent_logits, ld_logits, cent_out, ld_out = model.generate(batch)"
   ]
  },
  {
   "cell_type": "code",
   "execution_count": null,
   "metadata": {},
   "outputs": [],
   "source": [
    "normalize = lambda x: x - x.min()\n",
    "plt.figure(figsize=(16,4))\n",
    "plt.plot(ld_out[i].argmax(-1).cpu().detach().numpy())\n",
    "plt.plot(normalize(batch['onset_arr']))"
   ]
  },
  {
   "cell_type": "code",
   "execution_count": null,
   "metadata": {},
   "outputs": [],
   "source": [
    "batch['ld_gt_discrete'][i]"
   ]
  },
  {
   "cell_type": "code",
   "execution_count": null,
   "metadata": {},
   "outputs": [],
   "source": [
    "batch['x'][i][:,131+121:].shape"
   ]
  },
  {
   "cell_type": "code",
   "execution_count": null,
   "metadata": {},
   "outputs": [],
   "source": [
    "batch['teacher_forcing_ld'][i].argmax(-1)"
   ]
  },
  {
   "cell_type": "code",
   "execution_count": null,
   "metadata": {},
   "outputs": [],
   "source": [
    "batch['x'][i][:,131+101:].argmax(-1)"
   ]
  },
  {
   "cell_type": "code",
   "execution_count": null,
   "metadata": {},
   "outputs": [],
   "source": [
    "plt.plot(batch['x'][i][:,131+121:].argmax(-1))"
   ]
  },
  {
   "cell_type": "code",
   "execution_count": null,
   "metadata": {},
   "outputs": [],
   "source": [
    "normalize(batch['x'][i][:,:129].argmax(-1)) - normalize(batch['pitches'][i]) < 0.00001"
   ]
  },
  {
   "cell_type": "code",
   "execution_count": null,
   "metadata": {},
   "outputs": [],
   "source": [
    "#@title Select dataset\n",
    "dataset = 'DDSPViolin_HeuristicVelocityMax'  #@param ['DDSPViolin', 'DDSPViolin_DeadpanMidi_SyntheticAudio', 'DDSPViolin_HumanMidi_SyntheticAudio', \"DDSPViolin_HeuristicVelocityMax\", \"303Static\", '303Dynamic']\n",
    "fs = \"16000\" #@param [16000, 48000]\n",
    "split = 'train' #@param ['train', 'valid', 'test']\n",
    "num_preview = 4#@param {type:\"number\", min:1, max:10, step:1}\n",
    "clip_len_seconds = 5#@param {type:\"number\", min:1, max:10, step:1}\n",
    "seed = 0#@param {type:\"number\", min:1, max:10, step:1}\n",
    "plot_waveform = True#@param {type:\"boolean\"}\n",
    "plot_f0 = True#@param {type:\"boolean\"}\n",
    "plot_loudness = True#@param {type:\"boolean\"}\n",
    "plot_midi = True#@param {type:\"boolean\"}\n",
    "\n",
    "from io import BytesIO\n",
    "import tempfile\n",
    "import os\n",
    "import pickle\n",
    "import random\n",
    "import tarfile\n",
    "\n",
    "import numpy as np\n",
    "import pretty_midi\n",
    "from scipy.io.wavfile import read as wavread\n",
    "from IPython.display import display, Audio\n",
    "\n",
    "import matplotlib.pyplot as plt\n",
    "\n",
    "fs = int(fs)\n",
    "PARAMS_FS = 250\n",
    "\n",
    "normalize = lambda x: (x - x.min()) / (x.max() - x.min())\n",
    "\n",
    "\n",
    "# Load wav\n",
    "wav_fp = os.path.join('wav', '{}.wav'.format(fn))\n",
    "wavfs, wav = wavread(BytesIO(get_fn_bytes(wav_fp)))\n",
    "assert wavfs == fs\n",
    "assert wav.min() >= -1 and wav.max() <= 1 and wav.dtype == np.float32\n",
    "wav_len_seconds = wav.shape[0] / fs\n",
    "\n",
    "# Select clip from wav\n",
    "wav = np.pad(wav, (int(clip_len_seconds * fs), int(clip_len_seconds * fs)))\n",
    "clip = wav[\n",
    "                     int((clip_len_seconds + clip_start_seconds) * fs)\n",
    "                     :\n",
    "                     int((clip_len_seconds + clip_end_seconds) * fs)]\n",
    "\n",
    "# Create plot\n",
    "plt.figure(figsize=(16, 4))\n",
    "plt.yticks([])\n",
    "if plot_waveform:\n",
    "    plt.plot(\n",
    "            np.arange(clip_start_seconds, clip_end_seconds, 1./fs),\n",
    "            normalize(clip),\n",
    "            label='waveform',\n",
    "            alpha=0.25)\n",
    "\n",
    "# Preview clip\n",
    "print('-' * 10)\n",
    "print('Audio')\n",
    "\n",
    "if plot_f0 or plot_loudness:\n",
    "    plot_params = []\n",
    "    if plot_f0:\n",
    "        plot_params.extend(['f0_hz', 'f0_confidence'])\n",
    "    if plot_loudness:\n",
    "        plot_params.extend(['loudness_db_centered'])\n",
    "    for k in plot_params:\n",
    "        param = params[k]\n",
    "        param = np.pad(param, (int(clip_len_seconds * PARAMS_FS), int(clip_len_seconds * PARAMS_FS)))\n",
    "        clip = param[\n",
    "                        int((clip_len_seconds + clip_start_seconds) * PARAMS_FS)\n",
    "                        :\n",
    "                        int((clip_len_seconds + clip_end_seconds) * PARAMS_FS)]\n",
    "        alpha = 0.25 if k in ['f0_confidence', 'loudness_db'] else 1.\n",
    "        plt.plot(\n",
    "                np.arange(clip_start_seconds, clip_end_seconds, 1./PARAMS_FS),\n",
    "                normalize(clip),\n",
    "                label=k,\n",
    "                alpha=alpha\n",
    "        )\n",
    "        #plt.show()\n",
    "\n",
    "# Preview MIDI\n",
    "if plot_midi:\n",
    "    notes = ins.notes\n",
    "    clip_notes = [n for n in notes if n.end >= clip_start_seconds and n.start <= clip_end_seconds]\n",
    "    clip_onsets = [(n.start, n.velocity) for n in clip_notes if n.start >= clip_start_seconds]\n",
    "    clip_offsets = [n.end for n in clip_notes if n.end <= clip_end_seconds]\n",
    "    plt.plot(\n",
    "            [s for s, _ in clip_onsets],\n",
    "            [v / 127 for _, v in clip_onsets],\n",
    "            '^', label='midi_onsets')\n",
    "    plt.plot(clip_offsets, [0.0] * len(clip_offsets), 'v', label='midi_offsets')\n",
    "\n",
    "# Show plot\n",
    "plt.legend(loc='upper right')\n",
    "plt.show()"
   ]
  },
  {
   "cell_type": "code",
   "execution_count": null,
   "metadata": {},
   "outputs": [],
   "source": [
    "batch['x'].requires_grad = True"
   ]
  },
  {
   "cell_type": "code",
   "execution_count": null,
   "metadata": {},
   "outputs": [],
   "source": [
    "cent_logits, ld_logits = model(batch)"
   ]
  },
  {
   "cell_type": "code",
   "execution_count": null,
   "metadata": {},
   "outputs": [],
   "source": [
    "loss = ld_logits[0, 300].sum()"
   ]
  },
  {
   "cell_type": "code",
   "execution_count": null,
   "metadata": {},
   "outputs": [],
   "source": [
    "loss.backward()"
   ]
  },
  {
   "cell_type": "code",
   "execution_count": null,
   "metadata": {},
   "outputs": [],
   "source": [
    "batch['x'].shape"
   ]
  },
  {
   "cell_type": "code",
   "execution_count": null,
   "metadata": {},
   "outputs": [],
   "source": [
    "plt.imshow(batch['x'].grad.cpu().numpy()[0,:].T, cmap='hot')\n",
    "plt.xticks(np.arange(0, 1000, 100))"
   ]
  },
  {
   "cell_type": "code",
   "execution_count": null,
   "metadata": {},
   "outputs": [],
   "source": [
    "set(np.where(batch['x'].grad.cpu().numpy() != 0)[1])"
   ]
  },
  {
   "cell_type": "code",
   "execution_count": null,
   "metadata": {},
   "outputs": [],
   "source": [
    "len(set(np.where(batch['x'].grad.cpu().numpy() != 0)[1]))"
   ]
  },
  {
   "cell_type": "code",
   "execution_count": null,
   "metadata": {},
   "outputs": [],
   "source": [
    "plt.imshow(batch['x'].grad[0].detach().cpu().numpy())"
   ]
  },
  {
   "cell_type": "code",
   "execution_count": null,
   "metadata": {},
   "outputs": [],
   "source": [
    "y_pred = cent_logits\n",
    "\n",
    "if config.training.gaussian_during_train:\n",
    "    cents_loss_gauss = loss_fn_soft(y_pred, batch['f0_gt_gauss'])\n",
    "\n",
    "y_pred = y_pred.view(-1, 101)\n",
    "batch['f0_gt_discrete'] = batch['f0_gt_discrete'].reshape(-1)\n",
    "\n",
    "cents_loss_discrete = loss_fn_discrete(y_pred, batch['f0_gt_discrete'])\n",
    "\n",
    "#################\n",
    "# LOUDNESS LOSS #\n",
    "#################\n",
    "\n",
    "y_pred = ld_logits\n",
    "\n",
    "if config.training.gaussian_during_train:\n",
    "    ld_loss_gauss = loss_fn_soft(y_pred, batch['ld_gt_gauss'])\n",
    "\n",
    "y_pred = y_pred.view(-1, 121)\n",
    "batch['ld_gt_discrete'] = batch['ld_gt_discrete'].reshape(-1)\n",
    "\n",
    "ld_loss_discrete = loss_fn_discrete(y_pred, batch['ld_gt_discrete'])\n",
    "\n",
    "###################################\n",
    "# COMPUTE TOTAL LOSS AND BACKPROP #\n",
    "###################################\n",
    "\n",
    "loss_discrete = cents_loss_discrete + ld_loss_discrete\n",
    "if config.training.gaussian_during_train:\n",
    "    loss_gauss = cents_loss_gauss + ld_loss_gauss\n",
    "    loss = loss_gauss\n",
    "else:\n",
    "    loss = loss_discrete"
   ]
  },
  {
   "cell_type": "code",
   "execution_count": null,
   "metadata": {},
   "outputs": [],
   "source": [
    "loss.backward()"
   ]
  },
  {
   "cell_type": "code",
   "execution_count": null,
   "metadata": {},
   "outputs": [],
   "source": [
    "batch['x'].grad.shape"
   ]
  },
  {
   "cell_type": "code",
   "execution_count": null,
   "metadata": {},
   "outputs": [],
   "source": [
    "x = torch.tensor([4.], requires_grad=True)\n",
    "y = torch.tensor([5.], requires_grad=True)\n",
    "z = x + y\n",
    "z.backward()"
   ]
  },
  {
   "cell_type": "code",
   "execution_count": null,
   "metadata": {},
   "outputs": [],
   "source": [
    "y.grad"
   ]
  },
  {
   "cell_type": "code",
   "execution_count": null,
   "metadata": {},
   "outputs": [],
   "source": [
    "for i in range(104):\n",
    "    plt.title(i)\n",
    "    plt.plot(batch['loudness_db'][i])\n",
    "    plt.plot(batch['onset_arr'][i] * 80 - 120)\n",
    "    plt.plot(batch['pitches'][i] - 120)\n",
    "    plt.xlim(0, 1000)\n",
    "    plt.show()"
   ]
  },
  {
   "cell_type": "code",
   "execution_count": null,
   "metadata": {},
   "outputs": [],
   "source": [
    "np.where(batch['pitches'] == 0)"
   ]
  },
  {
   "cell_type": "code",
   "execution_count": null,
   "metadata": {},
   "outputs": [],
   "source": [
    "from wavegenie.util import preview_audio\n",
    "i = 99\n",
    "audio = np.array(batch['audio'][i])[..., np.newaxis].astype(np.float32)\n",
    "plt.title(i)\n",
    "plt.plot(batch['loudness_db'][i])\n",
    "plt.plot(batch['onset_arr'][i] * 80 - 120)\n",
    "plt.plot(batch['pitches'][i] - 120)\n",
    "plt.xlim(0, 1000)\n",
    "plt.show()\n",
    "preview_audio(audio)"
   ]
  },
  {
   "cell_type": "code",
   "execution_count": null,
   "metadata": {},
   "outputs": [],
   "source": [
    "audio"
   ]
  },
  {
   "cell_type": "code",
   "execution_count": null,
   "metadata": {},
   "outputs": [],
   "source": [
    "from wavegenie.util import extract_ddsp_synthesis_parameters\n",
    "\n",
    "params = extract_ddsp_synthesis_parameters(audio.T)"
   ]
  },
  {
   "cell_type": "code",
   "execution_count": null,
   "metadata": {},
   "outputs": [],
   "source": [
    "plt.plot(params['loudness_db'])"
   ]
  },
  {
   "cell_type": "code",
   "execution_count": null,
   "metadata": {},
   "outputs": [],
   "source": [
    "batch = trim_and_preprocess(batch, config)"
   ]
  },
  {
   "cell_type": "code",
   "execution_count": null,
   "metadata": {},
   "outputs": [],
   "source": [
    "import pickle\n",
    "batch40 =pickle.load(open('40batch.p', 'rb'))"
   ]
  },
  {
   "cell_type": "code",
   "execution_count": null,
   "metadata": {},
   "outputs": [],
   "source": [
    "plt.plot(batch40['loudness_db'][0])\n",
    "plt.plot(batch['loudness_db'][0])"
   ]
  },
  {
   "cell_type": "code",
   "execution_count": null,
   "metadata": {},
   "outputs": [],
   "source": [
    "plt.plot(batch40['ld_gt_discrete'][0])\n",
    "plt.plot(batch['ld_gt_discrete'][0])"
   ]
  },
  {
   "cell_type": "code",
   "execution_count": null,
   "metadata": {},
   "outputs": [],
   "source": [
    "plt.figure(figsize=(10,10))\n",
    "plt.imshow(batch40['teacher_forcing_ld'][0].T, origin='lower')\n",
    "plt.title('Teacher forcing loudness, shifted back 40 steps')\n",
    "plt.xlim(0, 1000)\n",
    "plt.show()\n",
    "plt.figure(figsize=(10,10))\n",
    "plt.imshow(batch['teacher_forcing_ld'][0].T, origin='lower')\n",
    "plt.title('Teacher forcing loudness, original position')\n",
    "plt.xlim(0, 1000)\n",
    "plt.show()"
   ]
  },
  {
   "cell_type": "code",
   "execution_count": null,
   "metadata": {},
   "outputs": [],
   "source": [
    "batch.keys()"
   ]
  },
  {
   "cell_type": "code",
   "execution_count": null,
   "metadata": {},
   "outputs": [],
   "source": [
    "import pickle\n",
    "pickle.dump(batch, open('40batch.p', 'wb'))"
   ]
  },
  {
   "cell_type": "code",
   "execution_count": null,
   "metadata": {},
   "outputs": [],
   "source": [
    "f0 = batch['f0']"
   ]
  },
  {
   "cell_type": "code",
   "execution_count": null,
   "metadata": {},
   "outputs": [],
   "source": [
    "plt.plot(f0perturbed[1], label='-40')\n",
    "plt.plot(f0[1], label='0')\n",
    "plt.legend()"
   ]
  },
  {
   "cell_type": "code",
   "execution_count": null,
   "metadata": {},
   "outputs": [],
   "source": [
    "np.save('f0perturbed.npy', newbatch['f0'][0])"
   ]
  },
  {
   "cell_type": "code",
   "execution_count": null,
   "metadata": {},
   "outputs": [],
   "source": [
    "f0save = np.load('f0perturbed.npy')"
   ]
  },
  {
   "cell_type": "code",
   "execution_count": null,
   "metadata": {},
   "outputs": [],
   "source": [
    "f0save[600:700]"
   ]
  },
  {
   "cell_type": "code",
   "execution_count": null,
   "metadata": {},
   "outputs": [],
   "source": [
    "newbatch['f0'][0][600:700]"
   ]
  },
  {
   "cell_type": "code",
   "execution_count": null,
   "metadata": {},
   "outputs": [],
   "source": [
    "plt.plot(np.array(newbatch['f0'][0,600:700]))"
   ]
  },
  {
   "cell_type": "code",
   "execution_count": null,
   "metadata": {},
   "outputs": [],
   "source": [
    "plt.plot(newbatch['f0'][0])"
   ]
  },
  {
   "cell_type": "code",
   "execution_count": null,
   "metadata": {},
   "outputs": [],
   "source": [
    "plt.plot(f0save)"
   ]
  },
  {
   "cell_type": "code",
   "execution_count": null,
   "metadata": {},
   "outputs": [],
   "source": [
    "for batch in val_loader:\n",
    "    pass"
   ]
  },
  {
   "cell_type": "code",
   "execution_count": null,
   "metadata": {},
   "outputs": [],
   "source": [
    "np.save('f0save.npy', batch['f0'][0,600:700])"
   ]
  },
  {
   "cell_type": "code",
   "execution_count": null,
   "metadata": {},
   "outputs": [],
   "source": [
    "newbatch['f0'][0,600:700] - batch['f0'][0,600:700]"
   ]
  },
  {
   "cell_type": "code",
   "execution_count": null,
   "metadata": {},
   "outputs": [],
   "source": [
    "batch['f0'][0,600:700]"
   ]
  },
  {
   "cell_type": "code",
   "execution_count": null,
   "metadata": {},
   "outputs": [],
   "source": [
    "plt.plot(batch['f0'][0,600:700])"
   ]
  },
  {
   "cell_type": "code",
   "execution_count": null,
   "metadata": {},
   "outputs": [],
   "source": [
    "batch.keys()"
   ]
  },
  {
   "cell_type": "code",
   "execution_count": null,
   "metadata": {},
   "outputs": [],
   "source": [
    "np.where((batch['onset_arr'] != batch['offset_arr']))"
   ]
  },
  {
   "cell_type": "code",
   "execution_count": null,
   "metadata": {},
   "outputs": [],
   "source": [
    "i = 3\n",
    "plt.plot(batch['pitches'][i])\n",
    "plt.show()\n",
    "plt.plot(batch['f0'][i])\n",
    "plt.plot(batch['onset_arr'][i] * 600)\n",
    "plt.plot(batch['offset_arr'][i] * 400)\n",
    "plt.show()\n",
    "plt.plot(batch['loudness_db'][i])\n",
    "plt.plot(batch['onset_arr'][i] * 90 - 120)\n",
    "plt.plot(batch['offset_arr'][i] * 50 - 120)"
   ]
  },
  {
   "cell_type": "code",
   "execution_count": null,
   "metadata": {},
   "outputs": [],
   "source": [
    "batch = trim_and_preprocess(batch, config)"
   ]
  },
  {
   "cell_type": "code",
   "execution_count": null,
   "metadata": {},
   "outputs": [],
   "source": [
    "batch['pitches'].shape"
   ]
  },
  {
   "cell_type": "code",
   "execution_count": null,
   "metadata": {},
   "outputs": [],
   "source": [
    "batch['teacher_forcing_f0'][:,0].unsqueeze(1).shape"
   ]
  },
  {
   "cell_type": "code",
   "execution_count": null,
   "metadata": {},
   "outputs": [],
   "source": [
    "idx = 0\n",
    "plt.figure(figsize=(16,5))\n",
    "plt.plot(batch['f0'][idx])"
   ]
  },
  {
   "cell_type": "code",
   "execution_count": null,
   "metadata": {},
   "outputs": [],
   "source": [
    "batch.keys()"
   ]
  },
  {
   "cell_type": "code",
   "execution_count": null,
   "metadata": {},
   "outputs": [],
   "source": [
    "plt.plot(batch['loudness_db'][idx])"
   ]
  },
  {
   "cell_type": "code",
   "execution_count": null,
   "metadata": {},
   "outputs": [],
   "source": [
    "plt.figure(figsize=(16,16))\n",
    "plt.imshow(batch['teacher_forcing_f0'][idx].T, origin='lower')"
   ]
  },
  {
   "cell_type": "code",
   "execution_count": null,
   "metadata": {},
   "outputs": [],
   "source": [
    "F.one_hot(batch['ld_gt_discrete'][idx], num_classes=121).shape"
   ]
  },
  {
   "cell_type": "code",
   "execution_count": null,
   "metadata": {},
   "outputs": [],
   "source": [
    "batch['teacher_forcing_ld'][idx].T.shape"
   ]
  },
  {
   "cell_type": "code",
   "execution_count": null,
   "metadata": {},
   "outputs": [],
   "source": [
    "teacher_ld = batch['teacher_forcing_ld'][idx].T\n",
    "gt_ld = F.one_hot(batch['ld_gt_discrete'][idx], num_classes=121).T.float()"
   ]
  },
  {
   "cell_type": "code",
   "execution_count": null,
   "metadata": {},
   "outputs": [],
   "source": [
    "teacher_f0 = batch['teacher_forcing_f0'][idx].T\n",
    "gt_f0 = F.one_hot(batch['f0_gt_discrete'][idx], num_classes=121).T.float()"
   ]
  },
  {
   "cell_type": "code",
   "execution_count": null,
   "metadata": {},
   "outputs": [],
   "source": [
    "plt.imshow(teacher[75:85,100:115] - gt[75:85,100:115], origin='lower')\n",
    "plt.title('(teacher forcing f0) - (ground truth f0)')"
   ]
  },
  {
   "cell_type": "code",
   "execution_count": null,
   "metadata": {},
   "outputs": [],
   "source": [
    "np.where(batch['pitches'][0] != 0)[0]"
   ]
  },
  {
   "cell_type": "code",
   "execution_count": null,
   "metadata": {},
   "outputs": [],
   "source": [
    "plt.plot(batch['pitches'][0])"
   ]
  },
  {
   "cell_type": "code",
   "execution_count": null,
   "metadata": {},
   "outputs": [],
   "source": [
    "plt.plot(batch['onset_arr'][0])"
   ]
  },
  {
   "cell_type": "code",
   "execution_count": null,
   "metadata": {},
   "outputs": [],
   "source": [
    "plt.plot(batch['offset_arr'][0])"
   ]
  },
  {
   "cell_type": "code",
   "execution_count": null,
   "metadata": {},
   "outputs": [],
   "source": [
    "plt.imshow(teacher_f0, origin='lower')"
   ]
  },
  {
   "cell_type": "code",
   "execution_count": null,
   "metadata": {},
   "outputs": [],
   "source": [
    "plt.figure(figsize=(8,8))\n",
    "plt.subplot(2, 1, 1)\n",
    "plt.title('teacher forcing f0')\n",
    "plt.imshow(teacher_f0[30:50,100:115], origin='lower')\n",
    "plt.subplot(2, 1, 2)\n",
    "plt.title('ground truth f0')\n",
    "plt.imshow(gt_f0[30:50,100:115], origin='lower')"
   ]
  },
  {
   "cell_type": "code",
   "execution_count": null,
   "metadata": {},
   "outputs": [],
   "source": [
    "plt.figure(figsize=(8,8))\n",
    "plt.subplot(2, 1, 1)\n",
    "plt.title('teacher forcing ld')\n",
    "plt.imshow(teacher_ld[60:90,100:115], origin='lower')\n",
    "plt.subplot(2, 1, 2)\n",
    "plt.title('ground truth ld')\n",
    "plt.imshow(gt_ld[60:90,100:115], origin='lower')"
   ]
  },
  {
   "cell_type": "code",
   "execution_count": null,
   "metadata": {},
   "outputs": [],
   "source": [
    "plt.figure(figsize=(16,8))\n",
    "plt.subplot(2, 1, 1)\n",
    "plt.imshow(teacher, origin='lower')\n",
    "plt.xlim(0, 1000)\n",
    "plt.subplot(2, 1, 2)\n",
    "plt.imshow(gt, origin='lower')\n",
    "#plt.plot(batch['loudness_db'][idx])\n",
    "plt.xlim(0, 1000)"
   ]
  },
  {
   "cell_type": "code",
   "execution_count": null,
   "metadata": {},
   "outputs": [],
   "source": []
  }
 ],
 "metadata": {
  "kernelspec": {
   "display_name": "wavegenie37",
   "language": "python",
   "name": "wavegenie37"
  },
  "language_info": {
   "codemirror_mode": {
    "name": "ipython",
    "version": 3
   },
   "file_extension": ".py",
   "mimetype": "text/x-python",
   "name": "python",
   "nbconvert_exporter": "python",
   "pygments_lexer": "ipython3",
   "version": "3.7.3"
  }
 },
 "nbformat": 4,
 "nbformat_minor": 4
}
