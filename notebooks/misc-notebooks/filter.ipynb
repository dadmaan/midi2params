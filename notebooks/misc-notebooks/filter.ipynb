{
 "cells": [
  {
   "cell_type": "markdown",
   "metadata": {},
   "source": [
    "Notebook mainly for filtering down the files that could be used in the dataset."
   ]
  },
  {
   "cell_type": "code",
   "execution_count": null,
   "metadata": {},
   "outputs": [],
   "source": [
    "import itertools\n",
    "import os\n",
    "\n",
    "import pretty_midi\n",
    "pretty_midi.pretty_midi.MAX_TICK = 1e16\n",
    "import random\n",
    "\n",
    "nes_ins_name_to_min_pitch = {\n",
    "    'p1': 33,\n",
    "    'p2': 33,\n",
    "    'tr': 21\n",
    "}\n",
    "nes_ins_name_to_max_pitch = {\n",
    "    'p1': 108,\n",
    "    'p2': 108,\n",
    "    'tr': 108\n",
    "}\n",
    "\n",
    "\n",
    "def instrument_is_monophonic(ins):\n",
    "    # Ensure sorted\n",
    "    ins.notes = sorted(ins.notes, key=lambda x: x.start)\n",
    "    notes = ins.notes\n",
    "    last_note_start = -1\n",
    "    for n in notes:\n",
    "        assert n.start >= last_note_start\n",
    "        last_note_start = n.start\n",
    "\n",
    "    monophonic = True\n",
    "    for i in range(len(notes) - 1):\n",
    "        n0 = notes[i]\n",
    "        n1 = notes[i + 1]\n",
    "        if n0.end > n1.start:\n",
    "            monophonic = False\n",
    "            break\n",
    "    return monophonic\n",
    "\n",
    "\n",
    "def emit_nesmdb_midi_examples(\n",
    "        midi_fp,\n",
    "        output_fname,\n",
    "        min_num_instruments=1,\n",
    "        filter_mid_len_below_seconds=5.,\n",
    "        filter_mid_len_above_seconds=600.,\n",
    "        filter_mid_bad_times=True,\n",
    "        filter_ins_max_below=67,\n",
    "        filter_ins_min_above=108,\n",
    "        filter_ins_duplicate=True,\n",
    "        output_include_drums=True,\n",
    "        output_max_num=16,\n",
    "        output_max_num_seconds=180.):\n",
    "    midi_name = os.path.split(midi_fp)[1].split('.')[0]\n",
    "    print('starting')\n",
    "\n",
    "    if min_num_instruments <= 0:\n",
    "        raise ValueError()\n",
    "\n",
    "    # Ignore unusually large MIDI files (only ~25 of these in the dataset)\n",
    "    if os.path.getsize(midi_fp) > (512 * 1024): #512K\n",
    "        print('too large')\n",
    "        return\n",
    "\n",
    "    try:\n",
    "        midi = pretty_midi.PrettyMIDI(midi_fp)\n",
    "    except:\n",
    "        print('improper prettymidi load')\n",
    "        return\n",
    "    \n",
    "    # Filter MIDIs that are not just one violin instrument\n",
    "    violins = [ins for ins in midi.instruments if ins.program == 40 or ins.program == 41]\n",
    "    if len(violins) != 1:\n",
    "        return\n",
    "\n",
    "    # Filter MIDIs with extreme length\n",
    "    midi_len = midi.get_end_time()\n",
    "    if midi_len < filter_mid_len_below_seconds or midi_len > filter_mid_len_above_seconds:\n",
    "        return\n",
    "\n",
    "    # Filter out negative times and quantize to audio samples\n",
    "    ins = [ins for ins in midi.instruments if ins.program == 40 or ins.program == 41][0]\n",
    "    for n in ins.notes:\n",
    "        if filter_mid_bad_times:\n",
    "            if n.start < 0 or n.end < 0 or n.end < n.start:\n",
    "                return\n",
    "        n.start = round(n.start * 44100.) / 44100.\n",
    "        n.end = round(n.end * 44100.) / 44100.\n",
    "\n",
    "\n",
    "    # Filter out instruments with bizarre ranges\n",
    "    pitches = [n.pitch for n in ins.notes]\n",
    "    min_pitch = min(pitches)\n",
    "    max_pitch = max(pitches)\n",
    "    if not(max_pitch >= filter_ins_max_below and min_pitch <= filter_ins_min_above):\n",
    "        return\n",
    "\n",
    "    # Sort notes for polyphonic filtering and proper saving\n",
    "    ins.notes = sorted(ins.notes, key=lambda x: x.start)\n",
    "\n",
    "    # Filter out polyphonic instruments\n",
    "    print(instrument_is_monophonic(ins))\n",
    "    if not(instrument_is_monophonic(ins)):\n",
    "        return\n",
    "    \n",
    "    # filter out files that have no velocity variation\n",
    "    vs = set([note.velocity for note in ins.notes])\n",
    "    \n",
    "    if len(vs) == 1:\n",
    "        return\n",
    "\n",
    "    # save this midi file name to a text file\n",
    "    with open(output_fname, 'a') as f:\n",
    "        print('success!')\n",
    "        print(midi_fp)\n",
    "        f.write(midi_fp + '\\n')"
   ]
  },
  {
   "cell_type": "code",
   "execution_count": null,
   "metadata": {},
   "outputs": [],
   "source": [
    "import matplotlib.pyplot as plt"
   ]
  },
  {
   "cell_type": "code",
   "execution_count": null,
   "metadata": {},
   "outputs": [],
   "source": [
    "startends = np.array([[n.start, n.end] for n in ins.notes])"
   ]
  },
  {
   "cell_type": "code",
   "execution_count": null,
   "metadata": {},
   "outputs": [],
   "source": [
    "startends[1:,0] - startends[:-1,1]"
   ]
  },
  {
   "cell_type": "code",
   "execution_count": null,
   "metadata": {},
   "outputs": [],
   "source": [
    "emit_nesmdb_midi_examples('6/62e625a3b10002509a1402b5d8c94ca0.mid', 'testout.midi')"
   ]
  },
  {
   "cell_type": "code",
   "execution_count": null,
   "metadata": {},
   "outputs": [],
   "source": [
    "midi = pretty_midi.PrettyMIDI('0/088a14b1c7a4f8113e724c2c27fadcce.mid')"
   ]
  },
  {
   "cell_type": "code",
   "execution_count": null,
   "metadata": {},
   "outputs": [],
   "source": [
    "dir(midi)"
   ]
  },
  {
   "cell_type": "code",
   "execution_count": null,
   "metadata": {},
   "outputs": [],
   "source": [
    "midi."
   ]
  },
  {
   "cell_type": "code",
   "execution_count": null,
   "metadata": {},
   "outputs": [],
   "source": [
    "midi.fluidsynth()"
   ]
  },
  {
   "cell_type": "code",
   "execution_count": null,
   "metadata": {},
   "outputs": [],
   "source": [
    "midi = emit_nesmdb_midi_examples('0/088a14b1c7a4f8113e724c2c27fadcce.mid', 'temp')"
   ]
  },
  {
   "cell_type": "code",
   "execution_count": null,
   "metadata": {},
   "outputs": [],
   "source": [
    "midi = emit_nesmdb_midi_examples('0/016521b8455db300c5a74a831e6b8538.mid', 'temp')"
   ]
  },
  {
   "cell_type": "code",
   "execution_count": null,
   "metadata": {},
   "outputs": [],
   "source": [
    "print(midi)"
   ]
  },
  {
   "cell_type": "code",
   "execution_count": null,
   "metadata": {},
   "outputs": [],
   "source": [
    "midi.instruments[1].program"
   ]
  },
  {
   "cell_type": "code",
   "execution_count": null,
   "metadata": {},
   "outputs": [],
   "source": [
    "import glob\n",
    "import shutil\n",
    "import multiprocessing\n",
    "\n",
    "import numpy as np\n",
    "import pretty_midi\n",
    "from tqdm import tqdm\n",
    "\n",
    "midi_fps = glob.glob('dataset/*/*.mid*')\n",
    "out_dir = 'filelist3.txt'\n",
    "\n",
    "def _task(x):\n",
    "    emit_nesmdb_midi_examples(x, out_dir)\n",
    "\n",
    "with multiprocessing.Pool(8) as p:\n",
    "    r = list(tqdm(p.imap(_task, midi_fps), total=len(midi_fps))) # ~1:37:40"
   ]
  },
  {
   "cell_type": "code",
   "execution_count": null,
   "metadata": {},
   "outputs": [],
   "source": [
    "midi_fps"
   ]
  },
  {
   "cell_type": "code",
   "execution_count": null,
   "metadata": {},
   "outputs": [],
   "source": []
  }
 ],
 "metadata": {
  "kernelspec": {
   "display_name": "wavegenie37",
   "language": "python",
   "name": "wavegenie37"
  },
  "language_info": {
   "codemirror_mode": {
    "name": "ipython",
    "version": 3
   },
   "file_extension": ".py",
   "mimetype": "text/x-python",
   "name": "python",
   "nbconvert_exporter": "python",
   "pygments_lexer": "ipython3",
   "version": "3.7.3"
  }
 },
 "nbformat": 4,
 "nbformat_minor": 4
}
