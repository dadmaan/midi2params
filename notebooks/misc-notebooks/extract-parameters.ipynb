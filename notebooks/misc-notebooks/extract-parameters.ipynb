{
 "cells": [
  {
   "cell_type": "markdown",
   "metadata": {},
   "source": [
    "Notebook to extract f0 and loudness from an entire folder of files, then generating an equivalent folder of files but where it's parameters instead."
   ]
  },
  {
   "cell_type": "code",
   "execution_count": null,
   "metadata": {},
   "outputs": [],
   "source": [
    "import numpy as np\n",
    "import os\n",
    "import matplotlib.pyplot as plt\n",
    "import time\n",
    "import pickle\n",
    "import tqdm\n",
    "import threading\n",
    "\n",
    "from wavegenie.audio_io import load_audio, save_wav\n",
    "from wavegenie.util import preview_audio, DDSP_DEFAULT_FS_AUDIO\n",
    "from wavegenie.util import extract_ddsp_synthesis_parameters"
   ]
  },
  {
   "cell_type": "code",
   "execution_count": null,
   "metadata": {},
   "outputs": [],
   "source": [
    "FOLDER_PATH = '/juice/scr/rjcaste/curis/lmd_full/synths'\n",
    "fpath = os.path.join(FOLDER_PATH, '6/689c5310eb33a2efa44e214b83bd3cba-95.wav')"
   ]
  },
  {
   "cell_type": "code",
   "execution_count": null,
   "metadata": {},
   "outputs": [],
   "source": [
    "def extract(fpath, basepath, force=True):\n",
    "    # given an explicit file path and an explicit base folder path (that points to the\n",
    "    # base folder where fpath resides in), save parameters to equivalent\n",
    "    # parameters file path\n",
    "    \n",
    "    # Parameters:\n",
    "    # fpath: explicit path to file\n",
    "    # basepath: explicit path to base folder\n",
    "    # force: should force extraction if the file has already been extracted in the past?\n",
    "    # verbose: verbose\n",
    "    \n",
    "    base_folder_name = 'synth-params'\n",
    "    pure_fpath = os.path.splitext(fpath)[0]\n",
    "    relpath = os.path.relpath(pure_fpath, basepath)  # how to get from basepath to the specific file\n",
    "    # switch basepath from synths folder to the parameters folder\n",
    "    basepath = os.path.join(os.path.split(basepath)[0], base_folder_name)\n",
    "    parameter_path = os.path.join(basepath, relpath) + '.p'\n",
    "\n",
    "    if os.path.exists(parameter_path) and not(force):\n",
    "        return\n",
    "    \n",
    "    # load audio\n",
    "    #print('loading audio...')\n",
    "    audio, fs = load_audio(\n",
    "        fpath,\n",
    "        DDSP_DEFAULT_FS_AUDIO,\n",
    "        num_channels=1,\n",
    "        normalize=True)\n",
    "    #print(audio.shape)\n",
    "    # Extract synthesis parameters\n",
    "    #print('extracting synthesis parameters...')\n",
    "    audio_parameters = extract_ddsp_synthesis_parameters(audio)\n",
    "    \n",
    "    print('saving...')\n",
    "    # build up the file tree up to this point, if it doesn't exist yet\n",
    "    deepest_folder = os.path.split(parameter_path)[0]\n",
    "    try:\n",
    "        os.makedirs(deepest_folder)\n",
    "    except FileExistsError:\n",
    "        pass\n",
    "    \n",
    "    pickle.dump(audio_parameters, open(parameter_path, 'wb'))"
   ]
  },
  {
   "cell_type": "code",
   "execution_count": null,
   "metadata": {},
   "outputs": [],
   "source": [
    "# convert every file in the directory one-by-one\n",
    "allfiles = []\n",
    "for (dirpath, dirnames, filenames) in os.walk(FOLDER_PATH):\n",
    "    allfiles += [os.path.join(dirpath, file) for file in filenames]\n",
    "allfiles = sorted(allfiles)\n",
    "pickle.dump(allfiles, open('allfiles.p', 'wb'))"
   ]
  },
  {
   "cell_type": "code",
   "execution_count": null,
   "metadata": {},
   "outputs": [],
   "source": [
    "def worker(i, skip_every):\n",
    "    \"\"\"thread worker function\"\"\"\n",
    "    os.system('python extractor.py {} {}'.format(i, skip_every))\n",
    "    return"
   ]
  },
  {
   "cell_type": "code",
   "execution_count": null,
   "metadata": {},
   "outputs": [],
   "source": [
    "NUM_THREADS = 5\n",
    "threads = []\n",
    "for i in range(NUM_THREADS):\n",
    "    t = threading.Thread(target=worker, args=(i, NUM_THREADS))\n",
    "    threads.append(t)\n",
    "    t.start()"
   ]
  },
  {
   "cell_type": "code",
   "execution_count": null,
   "metadata": {},
   "outputs": [],
   "source": [
    "allargs = [[f, FOLDER_PATH] for f in allfiles]"
   ]
  },
  {
   "cell_type": "code",
   "execution_count": null,
   "metadata": {},
   "outputs": [],
   "source": [
    "import glob\n",
    "import shutil\n",
    "import multiprocessing\n",
    "\n",
    "import numpy as np\n",
    "from tqdm import tqdm\n",
    "\n",
    "def _task(x):\n",
    "    extract(*x)\n",
    "# started at 3:06:55\n",
    "with multiprocessing.Pool(8) as p:\n",
    "    r = list(tqdm(p.imap(_task, allargs), total=len(allfiles)))"
   ]
  },
  {
   "cell_type": "code",
   "execution_count": null,
   "metadata": {},
   "outputs": [],
   "source": [
    "NUM_THREADS = 20\n",
    "threads = []\n",
    "for i in range(NUM_THREADS):\n",
    "    t = threading.Thread(target=worker, args=(i, NUM_THREADS, allfiles))\n",
    "    threads.append(t)\n",
    "    t.start()"
   ]
  },
  {
   "cell_type": "code",
   "execution_count": null,
   "metadata": {},
   "outputs": [],
   "source": []
  }
 ],
 "metadata": {
  "kernelspec": {
   "display_name": "wavegenie37",
   "language": "python",
   "name": "wavegenie37"
  },
  "language_info": {
   "codemirror_mode": {
    "name": "ipython",
    "version": 3
   },
   "file_extension": ".py",
   "mimetype": "text/x-python",
   "name": "python",
   "nbconvert_exporter": "python",
   "pygments_lexer": "ipython3",
   "version": "3.7.3"
  }
 },
 "nbformat": 4,
 "nbformat_minor": 4
}
