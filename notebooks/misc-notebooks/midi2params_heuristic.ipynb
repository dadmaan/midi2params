{
 "cells": [
  {
   "cell_type": "markdown",
   "metadata": {},
   "source": [
    "Notebook to tinker around with heuristically generating f0/loudness signals from MIDI."
   ]
  },
  {
   "cell_type": "code",
   "execution_count": null,
   "metadata": {},
   "outputs": [],
   "source": [
    "import numpy as np\n",
    "import matplotlib.pyplot as plt"
   ]
  },
  {
   "cell_type": "code",
   "execution_count": null,
   "metadata": {},
   "outputs": [],
   "source": [
    "def generate_twinkle(notes, length=1250):\n",
    "    # returns twinkle in f0\n",
    "\n",
    "    Msec = 1.1224653607\n",
    "    Mthird = 1.259913999\n",
    "    fourth = 1.3348494983\n",
    "    fifth = 1.4983086479\n",
    "    Msixth = 1.6817964644\n",
    "    \n",
    "    arrs = [np.linspace(base, base, 50),  # B\n",
    "            np.linspace(base, base, 50),  # B\n",
    "            np.linspace(base*fifth, base*fifth, 50),  # F#\n",
    "            np.linspace(base*fifth, base*fifth, 50),  # F#\n",
    "            np.linspace(base*Msixth, base*Msixth, 50),  # G#\n",
    "            np.linspace(base*Msixth, base*Msixth, 50),  # G#\n",
    "            np.linspace(base*fifth, base*fifth, 100),  # F#\n",
    "            np.linspace(base*fourth, base*fourth, 50),  # E\n",
    "            np.linspace(base*fourth, base*fourth, 50),  # E\n",
    "            np.linspace(base*Mthird, base*Mthird, 50),  # D#\n",
    "            np.linspace(base*Mthird, base*Mthird, 50),  # D#\n",
    "            np.linspace(base*Msec, base*Msec, 50),  # C#\n",
    "            np.linspace(base*Msec, base*Msec, 50),  # C#\n",
    "            np.linspace(base, base, 100),  # B\n",
    "    ]\n",
    "\n",
    "\n",
    "    f0 = np.concatenate((arrs))\n",
    "\n",
    "    return np.concatenate((f0, np.linspace(base, base, length - f0.shape[0]))), f0.shape[0]\n",
    "\n",
    "def generate_loud(beats, length=1250, decay=True):\n",
    "    arrs = []\n",
    "    base = -50\n",
    "    decay_rate = -0.25 # decays -1 per timestep/index\n",
    "    notelength = 0.7\n",
    "    for i, beat in enumerate(beats):\n",
    "        if i == len(beats) - 1:\n",
    "            arr = np.linspace(-100, -100, length - beat)\n",
    "        else:\n",
    "            next_beat = beats[i + 1]\n",
    "            if decay:\n",
    "                arr = np.linspace(base, base + decay_rate * (next_beat - beat), next_beat - beat)\n",
    "            else:\n",
    "                notelengthidx = int(notelength * (next_beat - beat))\n",
    "                restlengthidx = (next_beat - beat) - notelengthidx\n",
    "                l = [np.linspace(base, base, notelengthidx),\n",
    "                     np.linspace(-100, -100, restlengthidx)]\n",
    "                arr = np.concatenate(l)\n",
    "        arrs.append(arr)\n",
    "    return np.concatenate(arrs)\n",
    "    \n",
    "# in the notebook\n",
    "#f0_hz, stopidx = generate_twinkle()\n",
    "#loudness_db = generate_loud(decay=False)"
   ]
  },
  {
   "cell_type": "code",
   "execution_count": null,
   "metadata": {},
   "outputs": [],
   "source": [
    "def generate_loud(beats, length=1250, decay=True):\n",
    "    arrs = []\n",
    "    base = -50\n",
    "    decay_rate = -0.25 # decays -1 per timestep/index\n",
    "    #notelength = 0.7\n",
    "    ld_arr = np.zeros((length))\n",
    "    for i, beat in enumerate(beats):\n",
    "        if i == len(beats) - 1:\n",
    "            next_beat = length\n",
    "        else:\n",
    "            next_beat = beats[i + 1]\n",
    "        ld_arr[beat:next_beat] = np.linspace(base, base + decay_rate * (next_beat - beat), next_beat - beat)\n",
    "        #if decay:\n",
    "        #    arr = np.linspace(base, base + decay_rate * (next_beat - beat), next_beat - beat)\n",
    "        #else:\n",
    "        #    notelengthidx = int(notelength * (next_beat - beat))\n",
    "        #    restlengthidx = (next_beat - beat) - notelengthidx\n",
    "        #    l = [np.linspace(base, base, notelengthidx),\n",
    "        #         np.linspace(-100, -100, restlengthidx)]\n",
    "        #    arr = np.concatenate(l)\n",
    "        #arrs.append(arr)\n",
    "    \n",
    "    return ld_arr"
   ]
  },
  {
   "cell_type": "code",
   "execution_count": null,
   "metadata": {},
   "outputs": [],
   "source": [
    "beats = [0, 50, 100, 150, 200, 250, 300, 400, 450, 500, 550, 600, 650, 700, 800]\n",
    "ld = generate_loud(beats)"
   ]
  },
  {
   "cell_type": "code",
   "execution_count": null,
   "metadata": {},
   "outputs": [],
   "source": [
    "plt.plot(ld)"
   ]
  },
  {
   "cell_type": "code",
   "execution_count": null,
   "metadata": {},
   "outputs": [],
   "source": []
  }
 ],
 "metadata": {
  "kernelspec": {
   "display_name": "wavegenie37",
   "language": "python",
   "name": "wavegenie37"
  },
  "language_info": {
   "codemirror_mode": {
    "name": "ipython",
    "version": 3
   },
   "file_extension": ".py",
   "mimetype": "text/x-python",
   "name": "python",
   "nbconvert_exporter": "python",
   "pygments_lexer": "ipython3",
   "version": "3.7.3"
  }
 },
 "nbformat": 4,
 "nbformat_minor": 4
}
