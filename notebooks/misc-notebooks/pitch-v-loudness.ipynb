{
 "cells": [
  {
   "cell_type": "markdown",
   "metadata": {},
   "source": [
    "This notebook was created to investigate how pitches and loudnesses in our training data were related."
   ]
  },
  {
   "cell_type": "code",
   "execution_count": null,
   "metadata": {},
   "outputs": [],
   "source": [
    "import os\n",
    "import pickle\n",
    "import numpy as np"
   ]
  },
  {
   "cell_type": "code",
   "execution_count": null,
   "metadata": {},
   "outputs": [],
   "source": [
    "paramfolder = '../data/DDSPViolin-clipped3/params/train'\n",
    "midifolder = '../data/DDSPViolin-clipped3/midi/train'"
   ]
  },
  {
   "cell_type": "code",
   "execution_count": null,
   "metadata": {},
   "outputs": [],
   "source": [
    "set([os.path.splitext(f)[0][f.index('Mvt')+4:f.index('Mvt')+5] for f in os.listdir(paramfolder)])"
   ]
  },
  {
   "cell_type": "code",
   "execution_count": null,
   "metadata": {},
   "outputs": [],
   "source": [
    "def getxy(mvt):\n",
    "    params = []\n",
    "    midis = []\n",
    "    while len(midis) < 100:\n",
    "        f_id = os.path.splitext(np.random.choice(os.listdir(paramfolder)))[0]\n",
    "        if not('Mvt_{}'.format(mvt) in f_id):\n",
    "            continue\n",
    "        parampath = os.path.join(paramfolder, f_id + '.p')\n",
    "        midipath = os.path.join(midifolder, f_id + '.p')\n",
    "\n",
    "        param = pickle.load(open(parampath, 'rb'))\n",
    "        midi = pickle.load(open(midipath, 'rb'))\n",
    "        params.append(param)\n",
    "        midis.append(midi)\n",
    "    Y = np.concatenate([param['loudness_db'] for param in params])\n",
    "    X = np.concatenate([midi['pitches'] for midi in midis])\n",
    "    X = X[np.where(X != 0)]\n",
    "    Y = Y[np.where(X != 0)]\n",
    "    x = X - X.mean()\n",
    "    y = Y - Y.mean()\n",
    "    r = np.inner(x, y) / (np.linalg.norm(x) * np.linalg.norm(y))\n",
    "    return X, Y, r"
   ]
  },
  {
   "cell_type": "code",
   "execution_count": null,
   "metadata": {},
   "outputs": [],
   "source": [
    "X, Y, r = getxy(2)\n",
    "plt.scatter(X, Y, s=1)\n",
    "plt.xlabel('pitches')\n",
    "plt.ylabel('loudnesses')\n",
    "plt.title('Scatter plot of pitches and loudness for mvt. 2')\n",
    "print(r)\n",
    "plt.show()\n",
    "X, Y, r = getxy(3)\n",
    "plt.scatter(X, Y, s=1)\n",
    "plt.xlabel('pitches')\n",
    "plt.ylabel('loudnesses')\n",
    "plt.title('Scatter plot of pitches and loudness for mvt. 3')\n",
    "print(r)\n",
    "plt.show()\n",
    "X, Y, r = getxy(4)\n",
    "plt.scatter(X, Y, s=1)\n",
    "plt.xlabel('pitches')\n",
    "plt.ylabel('loudnesses')\n",
    "plt.title('Scatter plot of pitches and loudness for mvt. 4')\n",
    "print(r)\n",
    "plt.show()"
   ]
  },
  {
   "cell_type": "code",
   "execution_count": null,
   "metadata": {},
   "outputs": [],
   "source": []
  }
 ],
 "metadata": {
  "kernelspec": {
   "display_name": "wavegenie37",
   "language": "python",
   "name": "wavegenie37"
  },
  "language_info": {
   "codemirror_mode": {
    "name": "ipython",
    "version": 3
   },
   "file_extension": ".py",
   "mimetype": "text/x-python",
   "name": "python",
   "nbconvert_exporter": "python",
   "pygments_lexer": "ipython3",
   "version": "3.7.3"
  }
 },
 "nbformat": 4,
 "nbformat_minor": 4
}
