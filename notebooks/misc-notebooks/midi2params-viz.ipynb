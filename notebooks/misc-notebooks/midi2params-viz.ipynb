{
 "cells": [
  {
   "cell_type": "markdown",
   "metadata": {},
   "source": [
    "This notebook is intended to produce a side-by-side figure for the midi2params task."
   ]
  },
  {
   "cell_type": "code",
   "execution_count": null,
   "metadata": {},
   "outputs": [],
   "source": [
    "import os\n",
    "import numpy as np\n",
    "import pretty_midi\n",
    "import matplotlib.pyplot as plt\n",
    "from wavegenie.audio_io import load_audio, save_wav\n",
    "from wavegenie.util import preview_audio, DDSP_DEFAULT_FS_AUDIO\n",
    "\n",
    "midi_folder = '/juice/scr/rjcaste/curis/wavegenie/data/DDSPViolin/midi/train/clips'\n",
    "audio_folder = '/juice/scr/rjcaste/curis/wavegenie/data/DDSPViolin/wav/train/clips'"
   ]
  },
  {
   "cell_type": "code",
   "execution_count": null,
   "metadata": {},
   "outputs": [],
   "source": [
    "f_id = os.path.splitext(np.random.choice(os.listdir(midi_folder)))[0]\n",
    "print(f_id)\n",
    "midi_fpath = os.path.join(midi_folder, f_id + '.midi')\n",
    "audio_fpath = os.path.join(audio_folder, f_id + '.wav')"
   ]
  },
  {
   "cell_type": "code",
   "execution_count": null,
   "metadata": {},
   "outputs": [],
   "source": [
    "print('Using', midi_fpath)"
   ]
  },
  {
   "cell_type": "code",
   "execution_count": null,
   "metadata": {},
   "outputs": [],
   "source": [
    "midi = pretty_midi.PrettyMIDI(midi_fpath)\n",
    "plt.figure(figsize=(17, 17))\n",
    "plt.imshow(midi.get_piano_roll(fs=250), origin='lower')"
   ]
  },
  {
   "cell_type": "code",
   "execution_count": null,
   "metadata": {},
   "outputs": [],
   "source": [
    "print('Using', os.path.split(audio_fpath)[1])"
   ]
  },
  {
   "cell_type": "code",
   "execution_count": null,
   "metadata": {},
   "outputs": [],
   "source": [
    "audio, fs = load_audio(\n",
    "    audio_fpath,\n",
    "    DDSP_DEFAULT_FS_AUDIO,\n",
    "    num_channels=1,\n",
    "    normalize=True)\n",
    "\n",
    "preview_audio(audio)"
   ]
  },
  {
   "cell_type": "code",
   "execution_count": null,
   "metadata": {},
   "outputs": [],
   "source": [
    "from wavegenie.util import extract_ddsp_synthesis_parameters\n",
    "\n",
    "audio_parameters = extract_ddsp_synthesis_parameters(audio)"
   ]
  },
  {
   "cell_type": "code",
   "execution_count": null,
   "metadata": {},
   "outputs": [],
   "source": [
    "midi.get_piano_roll(fs=250).shape"
   ]
  },
  {
   "cell_type": "code",
   "execution_count": null,
   "metadata": {},
   "outputs": [],
   "source": [
    "midi.get_end_time()"
   ]
  },
  {
   "cell_type": "code",
   "execution_count": null,
   "metadata": {},
   "outputs": [],
   "source": [
    "plt.figure(figsize=(16, 3))\n",
    "plt.title('Piano Roll')\n",
    "roll = midi.get_piano_roll(fs=250)\n",
    "roll = np.pad(roll, ((0, 0), (0, 1250 - roll.shape[1])), mode='constant')\n",
    "roll = roll[40:100]\n",
    "plt.imshow(roll, origin='lower', interpolation='nearest', aspect='auto')\n",
    "plt.xlim(0, 1250)\n",
    "plt.show()\n",
    "plt.figure(figsize=(16, 3))\n",
    "plt.title('f0')\n",
    "plt.plot(audio_parameters['f0_hz'])\n",
    "plt.xlim(0, 1250)\n",
    "plt.show()\n",
    "plt.figure(figsize=(16, 3))\n",
    "plt.title('loudness')\n",
    "plt.plot(audio_parameters['loudness_db'])\n",
    "plt.xlim(0, 1250)\n",
    "plt.show()"
   ]
  },
  {
   "cell_type": "code",
   "execution_count": null,
   "metadata": {},
   "outputs": [],
   "source": []
  }
 ],
 "metadata": {
  "kernelspec": {
   "display_name": "wavegenie37",
   "language": "python",
   "name": "wavegenie37"
  },
  "language_info": {
   "codemirror_mode": {
    "name": "ipython",
    "version": 3
   },
   "file_extension": ".py",
   "mimetype": "text/x-python",
   "name": "python",
   "nbconvert_exporter": "python",
   "pygments_lexer": "ipython3",
   "version": "3.7.3"
  }
 },
 "nbformat": 4,
 "nbformat_minor": 4
}
