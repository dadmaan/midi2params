{
 "cells": [
  {
   "cell_type": "code",
   "execution_count": null,
   "metadata": {},
   "outputs": [],
   "source": [
    "AUDIO_URL_OR_FP = 'https://www.youtube.com/watch?v=0jXXWBt5URw'\n",
    "START_TIME = 35\n",
    "END_TIME = 45"
   ]
  },
  {
   "cell_type": "code",
   "execution_count": null,
   "metadata": {},
   "outputs": [],
   "source": [
    "# Load audio\n",
    "\n",
    "from wavegenie.audio_io import load_audio, save_wav\n",
    "from wavegenie.util import preview_audio, DDSP_DEFAULT_FS_AUDIO\n",
    "\n",
    "audio, fs = load_audio(\n",
    "    AUDIO_URL_OR_FP,\n",
    "    DDSP_DEFAULT_FS_AUDIO,\n",
    "    num_channels=1,\n",
    "    normalize=True,\n",
    "    start_time_seconds=START_TIME,\n",
    "    end_time_seconds=END_TIME)\n",
    "\n",
    "preview_audio(audio)\n",
    "save_wav('input_16k_mono_f32.wav', audio, DDSP_DEFAULT_FS_AUDIO)"
   ]
  },
  {
   "cell_type": "code",
   "execution_count": null,
   "metadata": {
    "scrolled": true
   },
   "outputs": [],
   "source": [
    "# Extract synthesis parameters\n",
    "\n",
    "import matplotlib.pyplot as plt\n",
    "\n",
    "from wavegenie.util import extract_ddsp_synthesis_parameters\n",
    "\n",
    "audio_parameters = extract_ddsp_synthesis_parameters(audio)\n",
    "\n",
    "plt.plot(audio_parameters['f0_hz'])\n",
    "plt.show()\n",
    "plt.plot(audio_parameters['loudness_db'])\n",
    "plt.show()"
   ]
  },
  {
   "cell_type": "code",
   "execution_count": null,
   "metadata": {},
   "outputs": [],
   "source": [
    "# Load model\n",
    "\n",
    "from wavegenie.util import load_ddsp_model\n",
    "\n",
    "model = load_ddsp_model('Violin')"
   ]
  },
  {
   "cell_type": "code",
   "execution_count": null,
   "metadata": {},
   "outputs": [],
   "source": [
    "audio_parameters['f0_hz']"
   ]
  },
  {
   "cell_type": "code",
   "execution_count": null,
   "metadata": {},
   "outputs": [],
   "source": [
    "audio_parameters['loudness_db']"
   ]
  },
  {
   "cell_type": "code",
   "execution_count": null,
   "metadata": {},
   "outputs": [],
   "source": [
    "model"
   ]
  },
  {
   "cell_type": "code",
   "execution_count": null,
   "metadata": {},
   "outputs": [],
   "source": [
    "# Resynthesize parameters\n",
    "\n",
    "from wavegenie.util import synthesize_ddsp_audio\n",
    "\n",
    "resynth = synthesize_ddsp_audio(model, audio_parameters)\n",
    "\n",
    "preview_audio(resynth)\n",
    "save_wav('output_16k_mono_f32.wav', resynth, DDSP_DEFAULT_FS_AUDIO)"
   ]
  },
  {
   "cell_type": "code",
   "execution_count": null,
   "metadata": {},
   "outputs": [],
   "source": []
  }
 ],
 "metadata": {
  "kernelspec": {
   "display_name": "ddsp-rod",
   "language": "python",
   "name": "ddsp-rod"
  },
  "language_info": {
   "codemirror_mode": {
    "name": "ipython",
    "version": 3
   },
   "file_extension": ".py",
   "mimetype": "text/x-python",
   "name": "python",
   "nbconvert_exporter": "python",
   "pygments_lexer": "ipython3",
   "version": "3.7.3"
  }
 },
 "nbformat": 4,
 "nbformat_minor": 4
}
