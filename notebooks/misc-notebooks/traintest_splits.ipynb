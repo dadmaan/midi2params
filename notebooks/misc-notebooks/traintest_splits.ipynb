{
 "cells": [
  {
   "cell_type": "markdown",
   "metadata": {},
   "source": [
    "This notebook was created to split `303Dynamic` and `303Static` datasets into their train/val/test splits."
   ]
  },
  {
   "cell_type": "code",
   "execution_count": null,
   "metadata": {},
   "outputs": [],
   "source": [
    "import os"
   ]
  },
  {
   "cell_type": "markdown",
   "metadata": {},
   "source": [
    "Just switch between `train`, `valid`, `test`, extensions, and folder names as necessary."
   ]
  },
  {
   "cell_type": "code",
   "execution_count": null,
   "metadata": {},
   "outputs": [],
   "source": [
    "with open('../data/303Static/test.txt') as f:\n",
    "    c = [l.replace('\\n','') for l in f.readlines()]"
   ]
  },
  {
   "cell_type": "code",
   "execution_count": null,
   "metadata": {},
   "outputs": [],
   "source": [
    "folder = '../data/303Static/wav'  # changeable\n",
    "subfolder = os.path.join(folder, 'test')  # changeable\n",
    "if not(os.path.exists(subfolder)):\n",
    "    os.makedirs(subfolder)\n",
    "\n",
    "for f_id in c:\n",
    "    fpath = os.path.join(folder, f_id + '.wav')  # changeable\n",
    "    newfpath = os.path.join(subfolder, f_id + '.wav')  # changeable\n",
    "    try:\n",
    "        os.rename(fpath, newfpath)\n",
    "        print(fpath)\n",
    "    except FileNotFoundError as e:\n",
    "        print(fpath + ' already done')\n",
    "        print(e)"
   ]
  },
  {
   "cell_type": "code",
   "execution_count": null,
   "metadata": {},
   "outputs": [],
   "source": []
  }
 ],
 "metadata": {
  "kernelspec": {
   "display_name": "wavegenie37",
   "language": "python",
   "name": "wavegenie37"
  },
  "language_info": {
   "codemirror_mode": {
    "name": "ipython",
    "version": 3
   },
   "file_extension": ".py",
   "mimetype": "text/x-python",
   "name": "python",
   "nbconvert_exporter": "python",
   "pygments_lexer": "ipython3",
   "version": "3.7.3"
  }
 },
 "nbformat": 4,
 "nbformat_minor": 4
}
