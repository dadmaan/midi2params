{
 "cells": [
  {
   "cell_type": "markdown",
   "metadata": {},
   "source": [
    "Notebook mainly for filtering down the files that could be used in the dataset."
   ]
  },
  {
   "cell_type": "code",
   "execution_count": 1,
   "metadata": {},
   "outputs": [],
   "source": [
    "import itertools\n",
    "import os\n",
    "\n",
    "import pretty_midi\n",
    "pretty_midi.pretty_midi.MAX_TICK = 1e16\n",
    "import random\n",
    "\n",
    "nes_ins_name_to_min_pitch = {\n",
    "    'p1': 33,\n",
    "    'p2': 33,\n",
    "    'tr': 21\n",
    "}\n",
    "nes_ins_name_to_max_pitch = {\n",
    "    'p1': 108,\n",
    "    'p2': 108,\n",
    "    'tr': 108\n",
    "}\n",
    "\n",
    "\n",
    "def instrument_is_monophonic(ins):\n",
    "    # Ensure sorted\n",
    "    ins.notes = sorted(ins.notes, key=lambda x: x.start)\n",
    "    notes = ins.notes\n",
    "    last_note_start = -1\n",
    "    for n in notes:\n",
    "        assert n.start >= last_note_start\n",
    "        last_note_start = n.start\n",
    "\n",
    "    monophonic = True\n",
    "    for i in range(len(notes) - 1):\n",
    "        n0 = notes[i]\n",
    "        n1 = notes[i + 1]\n",
    "        if n0.end > n1.start:\n",
    "            monophonic = False\n",
    "            break\n",
    "    return monophonic\n",
    "\n",
    "\n",
    "def emit_nesmdb_midi_examples(\n",
    "        midi_fp,\n",
    "        output_fname,\n",
    "        min_num_instruments=1,\n",
    "        filter_mid_len_below_seconds=5.,\n",
    "        filter_mid_len_above_seconds=600.,\n",
    "        filter_mid_bad_times=True,\n",
    "        filter_ins_max_below=67,\n",
    "        filter_ins_min_above=108,\n",
    "        filter_ins_duplicate=True,\n",
    "        output_include_drums=True,\n",
    "        output_max_num=16,\n",
    "        output_max_num_seconds=180.):\n",
    "    midi_name = os.path.split(midi_fp)[1].split('.')[0]\n",
    "    print('starting')\n",
    "\n",
    "    if min_num_instruments <= 0:\n",
    "        raise ValueError()\n",
    "\n",
    "    # Ignore unusually large MIDI files (only ~25 of these in the dataset)\n",
    "    if os.path.getsize(midi_fp) > (512 * 1024): #512K\n",
    "        print('too large')\n",
    "        return\n",
    "\n",
    "    try:\n",
    "        midi = pretty_midi.PrettyMIDI(midi_fp)\n",
    "    except:\n",
    "        print('improper prettymidi load')\n",
    "        return\n",
    "    \n",
    "    # Filter MIDIs that are not just one violin instrument\n",
    "    violins = [ins for ins in midi.instruments if ins.program == 40 or ins.program == 41]\n",
    "    if len(violins) != 1:\n",
    "        return\n",
    "\n",
    "    # Filter MIDIs with extreme length\n",
    "    midi_len = midi.get_end_time()\n",
    "    if midi_len < filter_mid_len_below_seconds or midi_len > filter_mid_len_above_seconds:\n",
    "        return\n",
    "\n",
    "    # Filter out negative times and quantize to audio samples\n",
    "    ins = [ins for ins in midi.instruments if ins.program == 40 or ins.program == 41][0]\n",
    "    for n in ins.notes:\n",
    "        if filter_mid_bad_times:\n",
    "            if n.start < 0 or n.end < 0 or n.end < n.start:\n",
    "                return\n",
    "        n.start = round(n.start * 44100.) / 44100.\n",
    "        n.end = round(n.end * 44100.) / 44100.\n",
    "\n",
    "\n",
    "    # Filter out instruments with bizarre ranges\n",
    "    pitches = [n.pitch for n in ins.notes]\n",
    "    min_pitch = min(pitches)\n",
    "    max_pitch = max(pitches)\n",
    "    if not(max_pitch >= filter_ins_max_below and min_pitch <= filter_ins_min_above):\n",
    "        return\n",
    "\n",
    "    # Sort notes for polyphonic filtering and proper saving\n",
    "    ins.notes = sorted(ins.notes, key=lambda x: x.start)\n",
    "\n",
    "    # Filter out polyphonic instruments\n",
    "    print(instrument_is_monophonic(ins))\n",
    "    if not(instrument_is_monophonic(ins)):\n",
    "        return\n",
    "    \n",
    "    # filter out files that have no velocity variation\n",
    "    vs = set([note.velocity for note in ins.notes])\n",
    "    \n",
    "    if len(vs) == 1:\n",
    "        return\n",
    "\n",
    "    # save this midi file name to a text file\n",
    "    with open(output_fname, 'a') as f:\n",
    "        print('success!')\n",
    "        print(midi_fp)\n",
    "        f.write(midi_fp + '\\n')"
   ]
  },
  {
   "cell_type": "code",
   "execution_count": 36,
   "metadata": {},
   "outputs": [],
   "source": [
    "import matplotlib.pyplot as plt"
   ]
  },
  {
   "cell_type": "code",
   "execution_count": 32,
   "metadata": {},
   "outputs": [],
   "source": [
    "startends = np.array([[n.start, n.end] for n in ins.notes])"
   ]
  },
  {
   "cell_type": "code",
   "execution_count": 34,
   "metadata": {},
   "outputs": [
    {
     "data": {
      "text/plain": [
       "array([0.03124717, 0.06249433, 2.03124717, 0.03124717, 0.03124717,\n",
       "       0.03124717, 0.03124717, 0.03124717, 0.03124717, 0.03124717,\n",
       "       0.03124717, 0.03124717, 0.03124717, 0.03124717, 0.03124717,\n",
       "       0.03124717, 0.03124717, 1.06249433, 0.03124717, 0.06249433,\n",
       "       2.03124717, 0.03124717, 0.03124717, 0.03124717, 0.03124717,\n",
       "       0.03124717, 0.03124717, 0.03124717, 0.03124717, 0.03124717,\n",
       "       0.03124717, 0.03124717, 0.03124717, 0.03124717, 0.03124717])"
      ]
     },
     "execution_count": 34,
     "metadata": {},
     "output_type": "execute_result"
    }
   ],
   "source": [
    "startends[1:,0] - startends[:-1,1]"
   ]
  },
  {
   "cell_type": "code",
   "execution_count": 21,
   "metadata": {},
   "outputs": [
    {
     "name": "stdout",
     "output_type": "stream",
     "text": [
      "True\n",
      "success!\n",
      "6/62e625a3b10002509a1402b5d8c94ca0.mid\n"
     ]
    }
   ],
   "source": [
    "emit_nesmdb_midi_examples('6/62e625a3b10002509a1402b5d8c94ca0.mid', 'testout.midi')"
   ]
  },
  {
   "cell_type": "code",
   "execution_count": 12,
   "metadata": {},
   "outputs": [
    {
     "name": "stderr",
     "output_type": "stream",
     "text": [
      "\n",
      "\u001b[A\n",
      "\n",
      "\u001b[A\u001b[A\n",
      "\n",
      "\n",
      "\u001b[A\u001b[A\u001b[A"
     ]
    }
   ],
   "source": [
    "midi = pretty_midi.PrettyMIDI('0/088a14b1c7a4f8113e724c2c27fadcce.mid')"
   ]
  },
  {
   "cell_type": "code",
   "execution_count": null,
   "metadata": {},
   "outputs": [],
   "source": [
    "dir(midi)"
   ]
  },
  {
   "cell_type": "code",
   "execution_count": null,
   "metadata": {},
   "outputs": [],
   "source": [
    "midi."
   ]
  },
  {
   "cell_type": "code",
   "execution_count": null,
   "metadata": {},
   "outputs": [],
   "source": [
    "midi.fluidsynth()"
   ]
  },
  {
   "cell_type": "code",
   "execution_count": null,
   "metadata": {},
   "outputs": [],
   "source": [
    "midi = emit_nesmdb_midi_examples('0/088a14b1c7a4f8113e724c2c27fadcce.mid', 'temp')"
   ]
  },
  {
   "cell_type": "code",
   "execution_count": null,
   "metadata": {},
   "outputs": [],
   "source": [
    "midi = emit_nesmdb_midi_examples('0/016521b8455db300c5a74a831e6b8538.mid', 'temp')"
   ]
  },
  {
   "cell_type": "code",
   "execution_count": null,
   "metadata": {},
   "outputs": [],
   "source": [
    "print(midi)"
   ]
  },
  {
   "cell_type": "code",
   "execution_count": null,
   "metadata": {},
   "outputs": [],
   "source": [
    "midi.instruments[1].program"
   ]
  },
  {
   "cell_type": "code",
   "execution_count": null,
   "metadata": {
    "collapsed": true,
    "jupyter": {
     "outputs_hidden": true
    }
   },
   "outputs": [
    {
     "name": "stderr",
     "output_type": "stream",
     "text": [
      "\n",
      "  0%|          | 0/178561 [00:00<?, ?it/s]\u001b[A"
     ]
    },
    {
     "name": "stdout",
     "output_type": "stream",
     "text": [
      "startingstartingstartingstartingstarting\n",
      "startingstarting\n",
      "\n",
      "\n",
      "\n",
      "\n",
      "starting\n",
      "\n",
      "starting\n",
      "starting\n",
      "starting\n",
      "starting\n",
      "starting\n",
      "starting\n",
      "starting\n",
      "starting\n",
      "False\n",
      "improper prettymidi load\n",
      "starting\n",
      "startingimproper prettymidi load\n",
      "\n",
      "startingstartingstarting\n",
      "\n"
     ]
    },
    {
     "name": "stderr",
     "output_type": "stream",
     "text": [
      "\n"
     ]
    },
    {
     "name": "stdout",
     "output_type": "stream",
     "text": [
      "starting"
     ]
    },
    {
     "name": "stderr",
     "output_type": "stream",
     "text": [
      "  0%|          | 1/178561 [00:01<66:54:30,  1.35s/it]"
     ]
    },
    {
     "name": "stdout",
     "output_type": "stream",
     "text": [
      "\n"
     ]
    },
    {
     "name": "stderr",
     "output_type": "stream",
     "text": [
      "\u001b[A"
     ]
    },
    {
     "name": "stdout",
     "output_type": "stream",
     "text": [
      "\n",
      "startingstarting\n",
      "\n",
      "starting\n",
      "starting\n",
      "starting\n",
      "starting\n",
      "improper prettymidi load\n",
      "starting\n"
     ]
    },
    {
     "name": "stderr",
     "output_type": "stream",
     "text": [
      "\n",
      "  0%|          | 11/178561 [00:02<48:06:59,  1.03it/s]\u001b[A"
     ]
    },
    {
     "name": "stdout",
     "output_type": "stream",
     "text": [
      "starting\n",
      "starting\n",
      "starting\n",
      "starting\n"
     ]
    },
    {
     "name": "stderr",
     "output_type": "stream",
     "text": [
      "\n",
      "  0%|          | 19/178561 [00:02<33:58:47,  1.46it/s]\u001b[A"
     ]
    },
    {
     "name": "stdout",
     "output_type": "stream",
     "text": [
      "starting\n",
      "starting\n",
      "starting\n"
     ]
    },
    {
     "name": "stderr",
     "output_type": "stream",
     "text": [
      "\n",
      "  0%|          | 21/178561 [00:02<26:39:11,  1.86it/s]\u001b[A"
     ]
    },
    {
     "name": "stdout",
     "output_type": "stream",
     "text": [
      "startingstarting\n",
      "\n",
      "starting\n",
      "starting\n",
      "starting\n",
      "improper prettymidi load\n",
      "starting\n"
     ]
    },
    {
     "name": "stderr",
     "output_type": "stream",
     "text": [
      "\n"
     ]
    },
    {
     "name": "stdout",
     "output_type": "stream",
     "text": [
      "starting"
     ]
    },
    {
     "name": "stderr",
     "output_type": "stream",
     "text": [
      "  0%|          | 24/178561 [00:03<19:56:19,  2.49it/s]\u001b[A"
     ]
    },
    {
     "name": "stdout",
     "output_type": "stream",
     "text": [
      "\n",
      "starting\n",
      "starting\n",
      "startingstarting\n",
      "\n",
      "starting\n"
     ]
    },
    {
     "name": "stderr",
     "output_type": "stream",
     "text": [
      "/u/nlp/anaconda/main/anaconda3/envs/wavegenie37/lib/python3.7/site-packages/pretty_midi/pretty_midi.py:101: RuntimeWarning: Tempo, Key or Time signature change events found on non-zero tracks.  This is not a valid type 0 or type 1 MIDI file.  Tempo, Key or Time Signature may be wrong.\n",
      "  RuntimeWarning)\n"
     ]
    },
    {
     "name": "stdout",
     "output_type": "stream",
     "text": [
      "startingstarting\n",
      "\n",
      "startingstarting\n",
      "\n"
     ]
    },
    {
     "name": "stderr",
     "output_type": "stream",
     "text": [
      "\n",
      "  0%|          | 26/178561 [00:03<17:52:22,  2.77it/s]\u001b[A"
     ]
    },
    {
     "name": "stdout",
     "output_type": "stream",
     "text": [
      "starting\n",
      "startingstarting\n",
      "starting\n",
      "\n"
     ]
    },
    {
     "name": "stderr",
     "output_type": "stream",
     "text": [
      "/u/nlp/anaconda/main/anaconda3/envs/wavegenie37/lib/python3.7/site-packages/pretty_midi/pretty_midi.py:101: RuntimeWarning: Tempo, Key or Time signature change events found on non-zero tracks.  This is not a valid type 0 or type 1 MIDI file.  Tempo, Key or Time Signature may be wrong.\n",
      "  RuntimeWarning)\n"
     ]
    },
    {
     "name": "stdout",
     "output_type": "stream",
     "text": [
      "starting\n",
      "starting\n",
      "startingstarting\n",
      "False\n",
      "\n"
     ]
    },
    {
     "name": "stderr",
     "output_type": "stream",
     "text": [
      "\n",
      "  0%|          | 40/178561 [00:04<13:12:37,  3.75it/s]\u001b[A"
     ]
    },
    {
     "name": "stdout",
     "output_type": "stream",
     "text": [
      "startingstartingstarting\n",
      "\n",
      "\n",
      "startingstartingstarting\n",
      "\n",
      "\n",
      "starting\n",
      "startingstarting\n",
      "\n",
      "startingstarting\n",
      "\n",
      "starting\n",
      "starting\n",
      "starting\n"
     ]
    },
    {
     "name": "stderr",
     "output_type": "stream",
     "text": [
      "\n",
      "  0%|          | 54/178561 [00:04<9:56:28,  4.99it/s] \u001b[A"
     ]
    },
    {
     "name": "stdout",
     "output_type": "stream",
     "text": [
      "starting\n",
      "starting\n",
      "starting\n",
      "starting\n",
      "starting\n"
     ]
    },
    {
     "name": "stderr",
     "output_type": "stream",
     "text": [
      "\n",
      "  0%|          | 68/178561 [00:05<7:15:21,  6.83it/s]\u001b[A"
     ]
    },
    {
     "name": "stdout",
     "output_type": "stream",
     "text": [
      "startingstarting\n",
      "\n",
      "starting\n",
      "starting\n",
      "improper prettymidi load\n",
      "starting\n",
      "starting\n",
      "starting\n"
     ]
    },
    {
     "name": "stderr",
     "output_type": "stream",
     "text": [
      "\n",
      "  0%|          | 71/178561 [00:05<8:17:18,  5.98it/s]\u001b[A"
     ]
    },
    {
     "name": "stdout",
     "output_type": "stream",
     "text": [
      "startingstarting\n",
      "\n"
     ]
    },
    {
     "name": "stderr",
     "output_type": "stream",
     "text": [
      "\n",
      "  0%|          | 76/178561 [00:06<6:38:24,  7.47it/s]\u001b[A"
     ]
    },
    {
     "name": "stdout",
     "output_type": "stream",
     "text": [
      "startingstarting\n",
      "\n",
      "starting\n"
     ]
    },
    {
     "name": "stderr",
     "output_type": "stream",
     "text": [
      "\n"
     ]
    },
    {
     "name": "stdout",
     "output_type": "stream",
     "text": [
      "starting"
     ]
    },
    {
     "name": "stderr",
     "output_type": "stream",
     "text": [
      "  0%|          | 78/178561 [00:06<6:18:01,  7.87it/s]\u001b[A"
     ]
    },
    {
     "name": "stdout",
     "output_type": "stream",
     "text": [
      "starting\n",
      "\n",
      "startingstarting\n",
      "\n",
      "starting\n"
     ]
    },
    {
     "name": "stderr",
     "output_type": "stream",
     "text": [
      "\n",
      "  0%|          | 85/178561 [00:06<4:54:26, 10.10it/s]\u001b[A"
     ]
    },
    {
     "name": "stdout",
     "output_type": "stream",
     "text": [
      "starting\n"
     ]
    },
    {
     "name": "stderr",
     "output_type": "stream",
     "text": [
      "/u/nlp/anaconda/main/anaconda3/envs/wavegenie37/lib/python3.7/site-packages/pretty_midi/pretty_midi.py:101: RuntimeWarning: Tempo, Key or Time signature change events found on non-zero tracks.  This is not a valid type 0 or type 1 MIDI file.  Tempo, Key or Time Signature may be wrong.\n",
      "  RuntimeWarning)\n"
     ]
    },
    {
     "name": "stdout",
     "output_type": "stream",
     "text": [
      "starting\n",
      "starting\n",
      "startingstarting\n",
      "\n",
      "starting\n"
     ]
    },
    {
     "name": "stderr",
     "output_type": "stream",
     "text": [
      "\n",
      "  0%|          | 89/178561 [00:07<5:53:38,  8.41it/s]\u001b[A"
     ]
    },
    {
     "name": "stdout",
     "output_type": "stream",
     "text": [
      "starting\n"
     ]
    },
    {
     "name": "stderr",
     "output_type": "stream",
     "text": [
      "/u/nlp/anaconda/main/anaconda3/envs/wavegenie37/lib/python3.7/site-packages/pretty_midi/pretty_midi.py:101: RuntimeWarning: Tempo, Key or Time signature change events found on non-zero tracks.  This is not a valid type 0 or type 1 MIDI file.  Tempo, Key or Time Signature may be wrong.\n",
      "  RuntimeWarning)\n"
     ]
    },
    {
     "name": "stdout",
     "output_type": "stream",
     "text": [
      "startingstarting\n",
      "\n",
      "starting\n",
      "starting\n"
     ]
    },
    {
     "name": "stderr",
     "output_type": "stream",
     "text": [
      "\n",
      "  0%|          | 91/178561 [00:07<7:26:54,  6.66it/s]\u001b[A"
     ]
    },
    {
     "name": "stdout",
     "output_type": "stream",
     "text": [
      "starting\n",
      "starting\n",
      "starting\n",
      "startingimproper prettymidi load\n",
      "\n",
      "starting\n",
      "starting\n",
      "starting\n",
      "starting\n",
      "starting\n"
     ]
    },
    {
     "name": "stderr",
     "output_type": "stream",
     "text": [
      "\n",
      "  0%|          | 101/178561 [00:08<7:10:04,  6.92it/s]\u001b[A"
     ]
    },
    {
     "name": "stdout",
     "output_type": "stream",
     "text": [
      "starting\n",
      "starting\n",
      "starting\n"
     ]
    },
    {
     "name": "stderr",
     "output_type": "stream",
     "text": [
      "\n",
      "  0%|          | 109/178561 [00:09<5:21:04,  9.26it/s]\u001b[A"
     ]
    },
    {
     "name": "stdout",
     "output_type": "stream",
     "text": [
      "starting\n"
     ]
    },
    {
     "name": "stderr",
     "output_type": "stream",
     "text": [
      "\n",
      "  0%|          | 121/178561 [00:29<7:26:34,  6.66it/s]\u001b[A"
     ]
    },
    {
     "name": "stdout",
     "output_type": "stream",
     "text": [
      "starting\n",
      "starting\n",
      "starting\n",
      "starting"
     ]
    },
    {
     "name": "stderr",
     "output_type": "stream",
     "text": [
      "\n",
      "  0%|          | 115/178561 [00:09<3:58:22, 12.48it/s]\u001b[A"
     ]
    },
    {
     "name": "stdout",
     "output_type": "stream",
     "text": [
      "\n",
      "starting\n",
      "starting\n",
      "starting\n",
      "starting\n",
      "starting\n",
      "starting\n",
      "starting\n",
      "starting\n"
     ]
    },
    {
     "name": "stderr",
     "output_type": "stream",
     "text": [
      "\n",
      "  0%|          | 118/178561 [00:10<6:25:58,  7.71it/s]\u001b[A"
     ]
    },
    {
     "name": "stdout",
     "output_type": "stream",
     "text": [
      "starting\n",
      "starting\n",
      "starting\n",
      "starting\n",
      "startingstarting\n",
      "\n",
      "starting\n",
      "startingstarting\n",
      "\n",
      "starting\n",
      "starting\n",
      "starting\n",
      "starting\n",
      "starting\n",
      "starting"
     ]
    },
    {
     "name": "stderr",
     "output_type": "stream",
     "text": [
      "\n",
      "  0%|          | 121/178561 [00:11<9:55:25,  4.99it/s]"
     ]
    },
    {
     "name": "stdout",
     "output_type": "stream",
     "text": [
      "starting"
     ]
    },
    {
     "name": "stderr",
     "output_type": "stream",
     "text": [
      "\u001b[A"
     ]
    },
    {
     "name": "stdout",
     "output_type": "stream",
     "text": [
      "\n",
      "starting\n",
      "\n"
     ]
    },
    {
     "name": "stderr",
     "output_type": "stream",
     "text": [
      "/u/nlp/anaconda/main/anaconda3/envs/wavegenie37/lib/python3.7/site-packages/pretty_midi/pretty_midi.py:101: RuntimeWarning: Tempo, Key or Time signature change events found on non-zero tracks.  This is not a valid type 0 or type 1 MIDI file.  Tempo, Key or Time Signature may be wrong.\n",
      "  RuntimeWarning)\n",
      "\n",
      "  0%|          | 133/178561 [00:11<7:05:23,  6.99it/s]\u001b[A"
     ]
    },
    {
     "name": "stdout",
     "output_type": "stream",
     "text": [
      "startingstartingstarting\n",
      "\n",
      "starting\n",
      "\n",
      "startingstarting\n",
      "\n",
      "startingstarting\n",
      "\n",
      "starting\n",
      "startingstarting\n",
      "\n",
      "starting\n"
     ]
    },
    {
     "name": "stderr",
     "output_type": "stream",
     "text": [
      "/u/nlp/anaconda/main/anaconda3/envs/wavegenie37/lib/python3.7/site-packages/pretty_midi/pretty_midi.py:101: RuntimeWarning: Tempo, Key or Time signature change events found on non-zero tracks.  This is not a valid type 0 or type 1 MIDI file.  Tempo, Key or Time Signature may be wrong.\n",
      "  RuntimeWarning)\n"
     ]
    },
    {
     "name": "stdout",
     "output_type": "stream",
     "text": [
      "starting\n",
      "starting\n",
      "startingstarting\n",
      "\n"
     ]
    },
    {
     "name": "stderr",
     "output_type": "stream",
     "text": [
      "\n",
      "  0%|          | 141/178561 [00:12<6:37:46,  7.48it/s]\u001b[A"
     ]
    },
    {
     "name": "stdout",
     "output_type": "stream",
     "text": [
      "starting\n",
      "starting\n",
      "starting\n",
      "starting\n",
      "starting\n",
      "starting"
     ]
    },
    {
     "name": "stderr",
     "output_type": "stream",
     "text": [
      "\n",
      "  0%|          | 154/178561 [00:12<5:13:29,  9.48it/s]\u001b[A"
     ]
    },
    {
     "name": "stdout",
     "output_type": "stream",
     "text": [
      "starting\n",
      "\n",
      "starting\n",
      "starting\n"
     ]
    },
    {
     "name": "stderr",
     "output_type": "stream",
     "text": [
      "\n",
      "  0%|          | 160/178561 [00:12<4:00:05, 12.38it/s]\u001b[A"
     ]
    },
    {
     "name": "stdout",
     "output_type": "stream",
     "text": [
      "starting\n",
      "starting\n",
      "starting\n"
     ]
    },
    {
     "name": "stderr",
     "output_type": "stream",
     "text": [
      "\n",
      "  0%|          | 164/178561 [00:13<3:49:08, 12.98it/s]\u001b[A"
     ]
    },
    {
     "name": "stdout",
     "output_type": "stream",
     "text": [
      "starting\n",
      "True\n",
      "starting\n",
      "starting\n",
      "starting\n",
      "improper prettymidi load\n",
      "startingstarting"
     ]
    },
    {
     "name": "stderr",
     "output_type": "stream",
     "text": [
      "\n",
      "  0%|          | 169/178561 [00:13<3:44:46, 13.23it/s]\u001b[A"
     ]
    },
    {
     "name": "stdout",
     "output_type": "stream",
     "text": [
      "\n",
      "\n",
      "starting\n",
      "starting\n",
      "starting\n",
      "startingstarting\n",
      "starting\n",
      "\n",
      "starting\n",
      "starting\n",
      "starting\n"
     ]
    },
    {
     "name": "stderr",
     "output_type": "stream",
     "text": [
      "/u/nlp/anaconda/main/anaconda3/envs/wavegenie37/lib/python3.7/site-packages/pretty_midi/pretty_midi.py:101: RuntimeWarning: Tempo, Key or Time signature change events found on non-zero tracks.  This is not a valid type 0 or type 1 MIDI file.  Tempo, Key or Time Signature may be wrong.\n",
      "  RuntimeWarning)\n"
     ]
    },
    {
     "name": "stdout",
     "output_type": "stream",
     "text": [
      "startingstarting\n",
      "\n"
     ]
    },
    {
     "name": "stderr",
     "output_type": "stream",
     "text": [
      "\n",
      "  0%|          | 172/178561 [00:14<6:22:44,  7.77it/s]\u001b[A"
     ]
    },
    {
     "name": "stdout",
     "output_type": "stream",
     "text": [
      "starting\n",
      "startingstarting\n",
      "\n",
      "starting\n"
     ]
    },
    {
     "name": "stderr",
     "output_type": "stream",
     "text": [
      "\n",
      "  0%|          | 183/178561 [00:14<4:44:27, 10.45it/s]"
     ]
    },
    {
     "name": "stdout",
     "output_type": "stream",
     "text": [
      "starting"
     ]
    },
    {
     "name": "stderr",
     "output_type": "stream",
     "text": [
      "\u001b[A"
     ]
    },
    {
     "name": "stdout",
     "output_type": "stream",
     "text": [
      "\n",
      "starting\n"
     ]
    },
    {
     "name": "stderr",
     "output_type": "stream",
     "text": [
      "\n",
      "  0%|          | 190/178561 [00:14<3:33:24, 13.93it/s]\u001b[A"
     ]
    },
    {
     "name": "stdout",
     "output_type": "stream",
     "text": [
      "startingstarting\n",
      "\n",
      "starting\n",
      "False\n",
      "startingstarting\n",
      "\n",
      "starting\n",
      "startingstarting\n",
      "\n",
      "starting\n",
      "starting\n",
      "starting\n"
     ]
    },
    {
     "name": "stderr",
     "output_type": "stream",
     "text": [
      "\n",
      "  0%|          | 194/178561 [00:15<5:10:51,  9.56it/s]\u001b[A"
     ]
    },
    {
     "name": "stdout",
     "output_type": "stream",
     "text": [
      "startingstarting\n",
      "\n",
      "starting\n",
      "starting\n",
      "starting\n",
      "startingstarting\n",
      "\n"
     ]
    },
    {
     "name": "stderr",
     "output_type": "stream",
     "text": [
      "\n",
      "  0%|          | 199/178561 [00:16<5:31:57,  8.96it/s]\u001b[A"
     ]
    },
    {
     "name": "stdout",
     "output_type": "stream",
     "text": [
      "starting\n"
     ]
    },
    {
     "name": "stderr",
     "output_type": "stream",
     "text": [
      "/u/nlp/anaconda/main/anaconda3/envs/wavegenie37/lib/python3.7/site-packages/pretty_midi/pretty_midi.py:101: RuntimeWarning: Tempo, Key or Time signature change events found on non-zero tracks.  This is not a valid type 0 or type 1 MIDI file.  Tempo, Key or Time Signature may be wrong.\n",
      "  RuntimeWarning)\n"
     ]
    },
    {
     "name": "stdout",
     "output_type": "stream",
     "text": [
      "starting\n",
      "starting\n",
      "starting\n",
      "starting\n",
      "starting\n",
      "starting\n"
     ]
    },
    {
     "name": "stderr",
     "output_type": "stream",
     "text": [
      "\n",
      "  0%|          | 208/178561 [00:16<5:08:13,  9.64it/s]\u001b[A"
     ]
    },
    {
     "name": "stdout",
     "output_type": "stream",
     "text": [
      "starting\n",
      "starting\n",
      "starting\n"
     ]
    },
    {
     "name": "stderr",
     "output_type": "stream",
     "text": [
      "\n",
      "  0%|          | 217/178561 [00:17<4:12:58, 11.75it/s]\u001b[A"
     ]
    },
    {
     "name": "stdout",
     "output_type": "stream",
     "text": [
      "starting\n",
      "starting\n",
      "starting\n",
      "starting\n",
      "starting\n",
      "starting\n",
      "starting\n",
      "starting\n",
      "starting\n"
     ]
    },
    {
     "name": "stderr",
     "output_type": "stream",
     "text": [
      "\n",
      "  0%|          | 220/178561 [00:18<8:03:35,  6.15it/s]\u001b[A"
     ]
    },
    {
     "name": "stdout",
     "output_type": "stream",
     "text": [
      "Falsestarting\n",
      "\n",
      "starting\n",
      "startingstarting\n",
      "\n"
     ]
    },
    {
     "name": "stderr",
     "output_type": "stream",
     "text": [
      "\n",
      "  0%|          | 232/178561 [00:18<5:48:50,  8.52it/s]\u001b[A"
     ]
    },
    {
     "name": "stdout",
     "output_type": "stream",
     "text": [
      "starting\n",
      "starting\n",
      "starting\n",
      "starting\n"
     ]
    },
    {
     "name": "stderr",
     "output_type": "stream",
     "text": [
      "\n",
      "  0%|          | 236/178561 [00:18<6:12:16,  7.98it/s]\u001b[A"
     ]
    },
    {
     "name": "stdout",
     "output_type": "stream",
     "text": [
      "starting\n",
      "starting\n",
      "startingstarting\n",
      "\n",
      "startingstarting\n",
      "\n",
      "startingstarting\n",
      "\n",
      "starting\n",
      "starting\n",
      "starting\n",
      "starting\n",
      "starting\n",
      "starting\n",
      "starting\n",
      "starting\n"
     ]
    },
    {
     "name": "stderr",
     "output_type": "stream",
     "text": [
      "\n",
      "  0%|          | 239/178561 [00:20<11:14:09,  4.41it/s]\u001b[A"
     ]
    },
    {
     "name": "stdout",
     "output_type": "stream",
     "text": [
      "starting\n",
      "starting\n",
      "starting\n",
      "starting\n",
      "startingstarting\n",
      "starting\n",
      "\n",
      "starting\n",
      "True\n",
      "success!\n",
      "dataset/2/2b648cbab2691907aa2ec0a18ed6a791.mid\n",
      "starting\n",
      "starting"
     ]
    },
    {
     "name": "stderr",
     "output_type": "stream",
     "text": [
      "\n"
     ]
    },
    {
     "name": "stdout",
     "output_type": "stream",
     "text": [
      "\n"
     ]
    },
    {
     "name": "stderr",
     "output_type": "stream",
     "text": [
      "  0%|          | 247/178561 [00:20<9:09:13,  5.41it/s] \u001b[A"
     ]
    },
    {
     "name": "stdout",
     "output_type": "stream",
     "text": [
      "starting\n",
      "starting\n",
      "starting\n",
      "starting\n",
      "False\n",
      "starting\n",
      "starting\n",
      "startingstarting\n",
      "\n",
      "startingstartingstarting\n",
      "\n",
      "\n",
      "starting\n",
      "starting\n",
      "improper prettymidi load\n",
      "starting\n"
     ]
    },
    {
     "name": "stderr",
     "output_type": "stream",
     "text": [
      "\n",
      "  0%|          | 265/178561 [00:22<7:22:32,  6.71it/s]\u001b[A"
     ]
    },
    {
     "name": "stdout",
     "output_type": "stream",
     "text": [
      "starting\n",
      "starting\n",
      "startingstarting\n",
      "\n",
      "improper prettymidi load\n",
      "starting\n",
      "starting\n",
      "starting"
     ]
    },
    {
     "name": "stderr",
     "output_type": "stream",
     "text": [
      "\n",
      "  0%|          | 270/178561 [00:22<6:45:06,  7.34it/s]\u001b[A"
     ]
    },
    {
     "name": "stdout",
     "output_type": "stream",
     "text": [
      "starting\n",
      "starting\n",
      "\n",
      "starting\n",
      "starting\n",
      "starting\n",
      "starting\n"
     ]
    },
    {
     "name": "stderr",
     "output_type": "stream",
     "text": [
      "\n",
      "  0%|          | 288/178561 [00:23<5:07:32,  9.66it/s]\u001b[A"
     ]
    },
    {
     "name": "stdout",
     "output_type": "stream",
     "text": [
      "starting\n",
      "startingFalse\n",
      "\n",
      "startingstarting\n",
      "\n",
      "starting\n",
      "startingstarting\n",
      "\n",
      "starting\n",
      "startingstarting\n",
      "\n",
      "starting"
     ]
    },
    {
     "name": "stderr",
     "output_type": "stream",
     "text": [
      "\n",
      "  0%|          | 291/178561 [00:23<6:17:37,  7.87it/s]\u001b[A"
     ]
    },
    {
     "name": "stdout",
     "output_type": "stream",
     "text": [
      "\n",
      "startingstartingstarting\n",
      "\n",
      "\n",
      "starting\n",
      "starting\n",
      "starting\n",
      "starting\n",
      "starting\n"
     ]
    },
    {
     "name": "stderr",
     "output_type": "stream",
     "text": [
      "\n",
      "  0%|          | 300/178561 [00:24<5:35:52,  8.85it/s]\u001b[A"
     ]
    },
    {
     "name": "stdout",
     "output_type": "stream",
     "text": [
      "starting\n",
      "startingstarting"
     ]
    },
    {
     "name": "stderr",
     "output_type": "stream",
     "text": [
      "\n",
      "  0%|          | 307/178561 [00:24<4:29:12, 11.04it/s]\u001b[A"
     ]
    },
    {
     "name": "stdout",
     "output_type": "stream",
     "text": [
      "\n",
      "\n",
      "startingstarting\n",
      "\n",
      "starting\n",
      "starting\n",
      "starting\n",
      "starting\n"
     ]
    },
    {
     "name": "stderr",
     "output_type": "stream",
     "text": [
      "\n",
      "  0%|          | 315/178561 [00:25<3:48:30, 13.00it/s]\u001b[A"
     ]
    },
    {
     "name": "stdout",
     "output_type": "stream",
     "text": [
      "starting\n",
      "starting\n",
      "startingstarting\n",
      "\n",
      "starting\n",
      "False\n",
      "starting\n"
     ]
    },
    {
     "name": "stderr",
     "output_type": "stream",
     "text": [
      "\n",
      "  0%|          | 317/178561 [00:25<6:17:21,  7.87it/s]\u001b[A"
     ]
    },
    {
     "name": "stdout",
     "output_type": "stream",
     "text": [
      "startingstarting\n",
      "\n",
      "starting\n",
      "starting"
     ]
    },
    {
     "name": "stderr",
     "output_type": "stream",
     "text": [
      "\n",
      "  0%|          | 326/178561 [00:25<4:39:56, 10.61it/s]\u001b[A"
     ]
    },
    {
     "name": "stdout",
     "output_type": "stream",
     "text": [
      "starting\n",
      "\n",
      "starting\n",
      "starting\n",
      "starting\n",
      "starting\n",
      "starting\n",
      "starting\n",
      "startingstarting\n",
      "\n",
      "starting\n",
      "starting\n",
      "True\n",
      "success!\n",
      "starting\n",
      "dataset/2/2f64e8d26d3d301fd4cae8bbaac1dcd1.mid\n",
      "starting\n",
      "startingstarting\n",
      "\n",
      "starting\n",
      "starting\n",
      "starting\n",
      "starting\n"
     ]
    },
    {
     "name": "stderr",
     "output_type": "stream",
     "text": [
      "\n",
      "  0%|          | 329/178561 [00:26<9:02:12,  5.48it/s]\u001b[A"
     ]
    },
    {
     "name": "stdout",
     "output_type": "stream",
     "text": [
      "startingstarting\n",
      "\n",
      "starting\n"
     ]
    },
    {
     "name": "stderr",
     "output_type": "stream",
     "text": [
      "\n",
      "  0%|          | 343/178561 [00:27<6:28:31,  7.64it/s]\u001b[A"
     ]
    },
    {
     "name": "stdout",
     "output_type": "stream",
     "text": [
      "startingstarting\n",
      "\n",
      "starting\n",
      "starting\n",
      "starting\n",
      "starting\n"
     ]
    },
    {
     "name": "stderr",
     "output_type": "stream",
     "text": [
      "\n",
      "  0%|          | 350/178561 [00:27<5:21:41,  9.23it/s]\u001b[A"
     ]
    },
    {
     "name": "stdout",
     "output_type": "stream",
     "text": [
      "starting\n",
      "startingstarting\n",
      "starting\n",
      "\n",
      "False\n",
      "startingstarting\n",
      "\n",
      "starting\n",
      "starting\n",
      "starting\n",
      "starting\n",
      "starting\n",
      "True\n",
      "starting\n",
      "startingFalse\n",
      "starting\n",
      "\n",
      "starting\n",
      "starting\n"
     ]
    },
    {
     "name": "stderr",
     "output_type": "stream",
     "text": [
      "\n",
      "  0%|          | 356/178561 [00:28<6:29:57,  7.62it/s]\u001b[A"
     ]
    },
    {
     "name": "stdout",
     "output_type": "stream",
     "text": [
      "startingstarting\n",
      "\n",
      "starting\n",
      "starting\n"
     ]
    },
    {
     "name": "stderr",
     "output_type": "stream",
     "text": [
      "\n",
      "  0%|          | 368/178561 [00:28<4:44:33, 10.44it/s]\u001b[A"
     ]
    },
    {
     "name": "stdout",
     "output_type": "stream",
     "text": [
      "startingstarting\n",
      "\n",
      "starting\n",
      "starting\n",
      "startingstartingstarting\n",
      "\n",
      "\n",
      "starting\n",
      "starting"
     ]
    },
    {
     "name": "stderr",
     "output_type": "stream",
     "text": [
      "\n",
      "  0%|          | 378/178561 [00:29<4:06:21, 12.05it/s]\u001b[A"
     ]
    },
    {
     "name": "stdout",
     "output_type": "stream",
     "text": [
      "\n",
      "starting\n",
      "starting\n",
      "starting\n",
      "startingstarting\n",
      "\n",
      "startingstarting\n",
      "\n"
     ]
    },
    {
     "name": "stderr",
     "output_type": "stream",
     "text": [
      "\n",
      "  0%|          | 382/178561 [00:29<4:49:33, 10.26it/s]\u001b[A"
     ]
    },
    {
     "name": "stdout",
     "output_type": "stream",
     "text": [
      "starting\n",
      "starting\n",
      "starting\n",
      "starting\n"
     ]
    },
    {
     "name": "stderr",
     "output_type": "stream",
     "text": [
      "\n",
      "  0%|          | 392/178561 [00:30<4:19:46, 11.43it/s]\u001b[A"
     ]
    },
    {
     "name": "stdout",
     "output_type": "stream",
     "text": [
      "starting\n",
      "starting\n",
      "starting\n",
      "starting\n",
      "starting\n",
      "startingstarting\n",
      "\n",
      "starting\n",
      "improper prettymidi load\n",
      "starting\n",
      "startingstarting\n",
      "\n",
      "starting\n",
      "starting\n",
      "starting\n",
      "startingstarting\n",
      "\n",
      "starting\n",
      "True\n",
      "startingsuccess!\n",
      "\n",
      "dataset/2/2624c73dc3c92518bfe1e6cecd8b36a2.mid\n",
      "starting"
     ]
    },
    {
     "name": "stderr",
     "output_type": "stream",
     "text": [
      "\n",
      "  0%|          | 397/178561 [00:31<6:52:32,  7.20it/s]\u001b[A"
     ]
    },
    {
     "name": "stdout",
     "output_type": "stream",
     "text": [
      "\n",
      "starting\n",
      "starting\n",
      "startingstarting\n",
      "\n"
     ]
    },
    {
     "name": "stderr",
     "output_type": "stream",
     "text": [
      "\n",
      "  0%|          | 406/178561 [00:31<5:15:55,  9.40it/s]\u001b[A"
     ]
    },
    {
     "name": "stdout",
     "output_type": "stream",
     "text": [
      "starting\n",
      "starting\n",
      "starting\n"
     ]
    },
    {
     "name": "stderr",
     "output_type": "stream",
     "text": [
      "\n",
      "  0%|          | 412/178561 [00:32<4:42:57, 10.49it/s]\u001b[A"
     ]
    },
    {
     "name": "stdout",
     "output_type": "stream",
     "text": [
      "starting\n",
      "startingstarting\n",
      "True\n",
      "starting\n",
      "\n",
      "starting\n",
      "starting\n",
      "starting\n",
      "starting\n",
      "starting\n",
      "starting\n",
      "startingstarting\n",
      "\n",
      "starting\n",
      "starting\n"
     ]
    },
    {
     "name": "stderr",
     "output_type": "stream",
     "text": [
      "\n",
      "  0%|          | 419/178561 [00:33<5:59:10,  8.27it/s]\u001b[A"
     ]
    },
    {
     "name": "stdout",
     "output_type": "stream",
     "text": [
      "startingFalse\n",
      "\n",
      "starting\n",
      "True\n",
      "success!\n",
      "dataset/2/20fde5aa2319f1aa930ec8bfd927cebb.mid\n",
      "starting\n",
      "starting\n",
      "starting\n",
      "improper prettymidi load\n"
     ]
    },
    {
     "name": "stderr",
     "output_type": "stream",
     "text": [
      "\n",
      "  0%|          | 430/178561 [00:34<5:03:51,  9.77it/s]\u001b[A"
     ]
    },
    {
     "name": "stdout",
     "output_type": "stream",
     "text": [
      "startingstarting\n",
      "starting\n",
      "\n",
      "starting\n",
      "improper prettymidi load\n",
      "starting\n",
      "starting\n",
      "starting\n"
     ]
    },
    {
     "name": "stderr",
     "output_type": "stream",
     "text": [
      "\n",
      "  0%|          | 441/178561 [00:34<4:20:48, 11.38it/s]\u001b[A"
     ]
    },
    {
     "name": "stdout",
     "output_type": "stream",
     "text": [
      "startingstarting\n",
      "\n",
      "starting\n",
      "starting\n",
      "startingstarting\n",
      "\n",
      "starting\n",
      "starting\n",
      "starting\n",
      "starting\n"
     ]
    },
    {
     "name": "stderr",
     "output_type": "stream",
     "text": [
      "\n",
      "  0%|          | 445/178561 [00:35<4:48:54, 10.28it/s]\u001b[A"
     ]
    },
    {
     "name": "stdout",
     "output_type": "stream",
     "text": [
      "starting\n",
      "improper prettymidi load\n",
      "starting\n",
      "starting\n",
      "starting\n",
      "starting\n",
      "starting\n",
      "starting\n",
      "starting\n",
      "starting\n",
      "starting\n",
      "startingstarting\n",
      "\n",
      "starting\n",
      "improper prettymidi loadstartingstarting"
     ]
    },
    {
     "name": "stderr",
     "output_type": "stream",
     "text": [
      "\n",
      "  0%|          | 456/178561 [00:36<4:21:20, 11.36it/s]\u001b[A"
     ]
    },
    {
     "name": "stdout",
     "output_type": "stream",
     "text": [
      "starting\n",
      "\n",
      "\n",
      "\n",
      "startingstarting\n",
      "\n",
      "starting\n"
     ]
    },
    {
     "name": "stderr",
     "output_type": "stream",
     "text": [
      "\n"
     ]
    },
    {
     "name": "stdout",
     "output_type": "stream",
     "text": [
      "startingstarting"
     ]
    },
    {
     "name": "stderr",
     "output_type": "stream",
     "text": [
      "  0%|          | 472/178561 [00:36<3:12:50, 15.39it/s]\u001b[A"
     ]
    },
    {
     "name": "stdout",
     "output_type": "stream",
     "text": [
      "\n",
      "\n",
      "starting\n"
     ]
    },
    {
     "name": "stderr",
     "output_type": "stream",
     "text": [
      "\n",
      "  0%|          | 476/178561 [00:36<3:16:50, 15.08it/s]\u001b[A"
     ]
    },
    {
     "name": "stdout",
     "output_type": "stream",
     "text": [
      "startingstarting\n",
      "\n",
      "starting\n",
      "starting\n"
     ]
    },
    {
     "name": "stderr",
     "output_type": "stream",
     "text": [
      "\n",
      "  0%|          | 480/178561 [00:36<3:12:31, 15.42it/s]\u001b[A"
     ]
    },
    {
     "name": "stdout",
     "output_type": "stream",
     "text": [
      "starting\n",
      "startingstarting\n",
      "\n",
      "starting\n",
      "starting\n",
      "starting\n",
      "starting\n"
     ]
    },
    {
     "name": "stderr",
     "output_type": "stream",
     "text": [
      "\n",
      "  0%|          | 483/178561 [00:37<4:50:29, 10.22it/s]\u001b[A"
     ]
    },
    {
     "name": "stdout",
     "output_type": "stream",
     "text": [
      "starting\n",
      "False\n",
      "starting\n",
      "starting\n"
     ]
    },
    {
     "name": "stderr",
     "output_type": "stream",
     "text": [
      "\n",
      "  0%|          | 493/178561 [00:37<3:44:15, 13.23it/s]\u001b[A"
     ]
    },
    {
     "name": "stdout",
     "output_type": "stream",
     "text": [
      "starting\n",
      "starting\n",
      "starting\n",
      "starting\n",
      "starting\n",
      "startingstarting\n",
      "\n",
      "startingstarting\n",
      "\n"
     ]
    },
    {
     "name": "stderr",
     "output_type": "stream",
     "text": [
      "\n",
      "  0%|          | 496/178561 [00:38<6:46:32,  7.30it/s]\u001b[A"
     ]
    },
    {
     "name": "stdout",
     "output_type": "stream",
     "text": [
      "starting\n",
      "startingstarting\n",
      "\n",
      "starting\n",
      "starting\n"
     ]
    },
    {
     "name": "stderr",
     "output_type": "stream",
     "text": [
      "\n",
      "  0%|          | 505/178561 [00:38<5:40:54,  8.71it/s]\u001b[A"
     ]
    },
    {
     "name": "stdout",
     "output_type": "stream",
     "text": [
      "starting\n",
      "starting\n",
      "starting\n"
     ]
    },
    {
     "name": "stderr",
     "output_type": "stream",
     "text": [
      "\n",
      "  0%|          | 509/178561 [00:39<4:47:00, 10.34it/s]\u001b[A"
     ]
    },
    {
     "name": "stdout",
     "output_type": "stream",
     "text": [
      "starting\n",
      "starting\n",
      "starting\n",
      "starting\n",
      "starting\n",
      "starting\n",
      "starting\n"
     ]
    },
    {
     "name": "stderr",
     "output_type": "stream",
     "text": [
      "\n",
      "  0%|          | 513/178561 [00:39<5:13:59,  9.45it/s]\u001b[A"
     ]
    },
    {
     "name": "stdout",
     "output_type": "stream",
     "text": [
      "starting\n",
      "starting\n",
      "starting"
     ]
    },
    {
     "name": "stderr",
     "output_type": "stream",
     "text": [
      "\n",
      "  0%|          | 518/178561 [00:39<4:25:17, 11.19it/s]\u001b[A"
     ]
    },
    {
     "name": "stdout",
     "output_type": "stream",
     "text": [
      "\n",
      "starting\n",
      "starting\n",
      "starting\n",
      "starting\n",
      "starting\n",
      "starting\n",
      "starting\n",
      "starting\n",
      "starting\n",
      "starting\n",
      "startingstarting\n",
      "\n"
     ]
    },
    {
     "name": "stderr",
     "output_type": "stream",
     "text": [
      "\n",
      "  0%|          | 521/178561 [00:41<8:28:23,  5.84it/s]\u001b[A"
     ]
    },
    {
     "name": "stdout",
     "output_type": "stream",
     "text": [
      "starting\n",
      "startingstarting\n",
      "\n",
      "starting\n",
      "starting\n",
      "starting\n",
      "starting\n",
      "starting\n",
      "starting"
     ]
    },
    {
     "name": "stderr",
     "output_type": "stream",
     "text": [
      "\n",
      "  0%|          | 535/178561 [00:41<6:26:21,  7.68it/s]\u001b[A"
     ]
    },
    {
     "name": "stdout",
     "output_type": "stream",
     "text": [
      "\n",
      "starting\n"
     ]
    },
    {
     "name": "stderr",
     "output_type": "stream",
     "text": [
      "\n",
      "  0%|          | 541/178561 [00:41<4:46:03, 10.37it/s]\u001b[A"
     ]
    },
    {
     "name": "stdout",
     "output_type": "stream",
     "text": [
      "starting\n",
      "starting\n",
      "starting\n",
      "starting\n",
      "starting\n",
      "improper prettymidi load\n",
      "startingstarting\n",
      "\n",
      "starting\n",
      "starting\n",
      "improper prettymidi load\n",
      "starting\n",
      "starting\n"
     ]
    },
    {
     "name": "stderr",
     "output_type": "stream",
     "text": [
      "\n",
      "  0%|          | 544/178561 [00:42<6:25:03,  7.71it/s]\u001b[A"
     ]
    },
    {
     "name": "stdout",
     "output_type": "stream",
     "text": [
      "starting\n",
      "improper prettymidi load\n",
      "startingstarting\n",
      "\n"
     ]
    },
    {
     "name": "stderr",
     "output_type": "stream",
     "text": [
      "\n",
      "  0%|          | 547/178561 [00:42<6:01:52,  8.20it/s]\u001b[A"
     ]
    },
    {
     "name": "stdout",
     "output_type": "stream",
     "text": [
      "startingstarting\n",
      "\n",
      "starting\n",
      "starting\n",
      "starting\n",
      "startingstarting\n",
      "\n",
      "starting\n",
      "starting\n"
     ]
    },
    {
     "name": "stderr",
     "output_type": "stream",
     "text": [
      "\n",
      "  0%|          | 557/178561 [00:43<5:24:12,  9.15it/s]\u001b[A"
     ]
    },
    {
     "name": "stdout",
     "output_type": "stream",
     "text": [
      "startingstarting\n",
      "\n"
     ]
    },
    {
     "name": "stderr",
     "output_type": "stream",
     "text": [
      "\n",
      "  0%|          | 561/178561 [00:43<4:25:17, 11.18it/s]\u001b[A"
     ]
    },
    {
     "name": "stdout",
     "output_type": "stream",
     "text": [
      "starting\n",
      "starting\n",
      "startingstarting\n",
      "\n",
      "True\n",
      "startingstarting\n",
      "\n",
      "starting\n",
      "improper prettymidi load\n",
      "starting\n",
      "starting\n",
      "startingstarting"
     ]
    },
    {
     "name": "stderr",
     "output_type": "stream",
     "text": [
      "\n",
      "  0%|          | 564/178561 [00:44<5:35:09,  8.85it/s]\u001b[A"
     ]
    },
    {
     "name": "stdout",
     "output_type": "stream",
     "text": [
      "\n",
      "starting\n",
      "\n"
     ]
    },
    {
     "name": "stderr",
     "output_type": "stream",
     "text": [
      "\n",
      "  0%|          | 572/178561 [00:44<4:21:36, 11.34it/s]\u001b[A"
     ]
    },
    {
     "name": "stdout",
     "output_type": "stream",
     "text": [
      "startingstarting\n",
      "\n",
      "starting\n",
      "startingstarting\n",
      "\n",
      "starting\n",
      "starting\n"
     ]
    },
    {
     "name": "stderr",
     "output_type": "stream",
     "text": [
      "\n",
      "  0%|          | 583/178561 [00:44<3:39:41, 13.50it/s]\u001b[A"
     ]
    },
    {
     "name": "stdout",
     "output_type": "stream",
     "text": [
      "starting\n",
      "startingstarting\n",
      "\n",
      "starting\n",
      "startingstarting\n",
      "starting\n",
      "False\n",
      "\n",
      "starting\n",
      "starting\n",
      "starting\n",
      "starting\n",
      "starting\n",
      "starting"
     ]
    },
    {
     "name": "stderr",
     "output_type": "stream",
     "text": [
      "\n",
      "  0%|          | 587/178561 [00:45<5:37:29,  8.79it/s]\u001b[A"
     ]
    },
    {
     "name": "stdout",
     "output_type": "stream",
     "text": [
      "\n",
      "startingstarting\n",
      "False\n",
      "\n",
      "startingstarting\n",
      "\n",
      "starting\n",
      "starting\n"
     ]
    },
    {
     "name": "stderr",
     "output_type": "stream",
     "text": [
      "\n",
      "  0%|          | 604/178561 [00:46<4:24:38, 11.21it/s]\u001b[A"
     ]
    },
    {
     "name": "stdout",
     "output_type": "stream",
     "text": [
      "starting\n",
      "starting\n",
      "startingstarting\n",
      "\n"
     ]
    },
    {
     "name": "stderr",
     "output_type": "stream",
     "text": [
      "\n",
      "  0%|          | 608/178561 [00:46<3:34:44, 13.81it/s]\u001b[A"
     ]
    },
    {
     "name": "stdout",
     "output_type": "stream",
     "text": [
      "startingstarting\n",
      "starting\n",
      "\n",
      "starting"
     ]
    },
    {
     "name": "stderr",
     "output_type": "stream",
     "text": [
      "\n",
      "  0%|          | 611/178561 [00:46<3:17:30, 15.02it/s]\u001b[A"
     ]
    },
    {
     "name": "stdout",
     "output_type": "stream",
     "text": [
      "starting\n",
      "\n",
      "starting\n",
      "starting\n",
      "starting\n",
      "starting\n",
      "startingstarting\n",
      "\n",
      "starting\n",
      "starting\n",
      "starting\n",
      "startingstarting\n",
      "\n",
      "starting\n"
     ]
    },
    {
     "name": "stderr",
     "output_type": "stream",
     "text": [
      "\n",
      "  0%|          | 616/178561 [00:47<6:20:47,  7.79it/s]\u001b[A"
     ]
    },
    {
     "name": "stdout",
     "output_type": "stream",
     "text": [
      "startingstartingstarting\n",
      "\n",
      "\n",
      "starting\n",
      "starting\n",
      "starting\n",
      "starting\n",
      "starting\n",
      "starting\n",
      "starting\n"
     ]
    },
    {
     "name": "stderr",
     "output_type": "stream",
     "text": [
      "\n",
      "  0%|          | 628/178561 [00:48<5:30:04,  8.98it/s]\u001b[A"
     ]
    },
    {
     "name": "stdout",
     "output_type": "stream",
     "text": [
      "Truestarting\n",
      "\n",
      "startingsuccess!starting\n",
      "\n",
      "\n",
      "dataset/2/28332aa4c0a2e9e45971f38853efc4dc.mid\n",
      "startingstarting\n",
      "\n",
      "starting\n",
      "starting\n",
      "starting\n",
      "False"
     ]
    },
    {
     "name": "stderr",
     "output_type": "stream",
     "text": [
      "\n",
      "  0%|          | 637/178561 [00:49<4:58:56,  9.92it/s]\u001b[A"
     ]
    },
    {
     "name": "stdout",
     "output_type": "stream",
     "text": [
      "\n",
      "startingstarting\n",
      "\n",
      "starting\n",
      "starting\n",
      "starting\n",
      "starting\n",
      "starting\n",
      "improper prettymidi load\n",
      "starting\n",
      "starting\n",
      "False\n",
      "startingstarting"
     ]
    },
    {
     "name": "stderr",
     "output_type": "stream",
     "text": [
      "\n",
      "  0%|          | 642/178561 [00:50<6:22:49,  7.75it/s]\u001b[A"
     ]
    },
    {
     "name": "stdout",
     "output_type": "stream",
     "text": [
      "\n",
      "\n",
      "startingstarting\n",
      "\n",
      "starting\n",
      "starting\n"
     ]
    },
    {
     "name": "stderr",
     "output_type": "stream",
     "text": [
      "\n",
      "  0%|          | 658/178561 [00:50<4:35:36, 10.76it/s]\u001b[A"
     ]
    },
    {
     "name": "stdout",
     "output_type": "stream",
     "text": [
      "starting\n",
      "True\n",
      "success!starting\n",
      "\n",
      "dataset/2/21aa44f2ae2653555a2c74f6ed047585.mid\n",
      "starting\n",
      "starting\n",
      "starting\n",
      "starting\n",
      "improper prettymidi load\n",
      "starting\n",
      "startingstarting\n",
      "\n"
     ]
    },
    {
     "name": "stderr",
     "output_type": "stream",
     "text": [
      "\n",
      "  0%|          | 663/178561 [00:51<6:06:05,  8.10it/s]\u001b[A"
     ]
    },
    {
     "name": "stdout",
     "output_type": "stream",
     "text": [
      "starting\n",
      "starting\n",
      "startingstarting\n",
      "\n",
      "starting\n",
      "False\n"
     ]
    },
    {
     "name": "stderr",
     "output_type": "stream",
     "text": [
      "\n",
      "  0%|          | 667/178561 [00:51<6:03:04,  8.17it/s]\u001b[A"
     ]
    },
    {
     "name": "stdout",
     "output_type": "stream",
     "text": [
      "startingstarting\n",
      "\n",
      "startingstarting\n",
      "\n",
      "startingTrue\n",
      "\n",
      "success!\n",
      "dataset/2/284a91242f96da7453f9bd5a62d1862b.mid\n",
      "startingstarting\n",
      "\n",
      "starting\n",
      "starting\n",
      "starting\n",
      "starting\n",
      "starting\n",
      "improper prettymidi load\n",
      "starting\n",
      "starting\n",
      "starting"
     ]
    },
    {
     "name": "stderr",
     "output_type": "stream",
     "text": [
      "\n",
      "  0%|          | 673/178561 [00:52<7:06:09,  6.96it/s]\u001b[A"
     ]
    },
    {
     "name": "stdout",
     "output_type": "stream",
     "text": [
      "\n",
      "starting\n",
      "starting\n",
      "startingstarting\n",
      "\n",
      "starting\n",
      "starting\n",
      "starting\n",
      "starting\n",
      "starting\n"
     ]
    },
    {
     "name": "stderr",
     "output_type": "stream",
     "text": [
      "\n",
      "  0%|          | 685/178561 [00:53<5:40:52,  8.70it/s]\u001b[A"
     ]
    },
    {
     "name": "stdout",
     "output_type": "stream",
     "text": [
      "starting\n",
      "starting\n",
      "starting\n",
      "starting\n"
     ]
    },
    {
     "name": "stderr",
     "output_type": "stream",
     "text": [
      "\n",
      "  0%|          | 696/178561 [00:53<4:15:50, 11.59it/s]"
     ]
    },
    {
     "name": "stdout",
     "output_type": "stream",
     "text": [
      "starting"
     ]
    },
    {
     "name": "stderr",
     "output_type": "stream",
     "text": [
      "\u001b[A"
     ]
    },
    {
     "name": "stdout",
     "output_type": "stream",
     "text": [
      "\n",
      "starting\n",
      "starting\n"
     ]
    },
    {
     "name": "stderr",
     "output_type": "stream",
     "text": [
      "\n",
      "  0%|          | 699/178561 [00:53<3:36:57, 13.66it/s]\u001b[A"
     ]
    },
    {
     "name": "stdout",
     "output_type": "stream",
     "text": [
      "startingimproper prettymidi load\n",
      "\n",
      "starting\n",
      "starting\n",
      "starting\n",
      "starting\n",
      "starting\n"
     ]
    },
    {
     "name": "stderr",
     "output_type": "stream",
     "text": [
      "\n",
      "  0%|          | 702/178561 [00:54<5:40:45,  8.70it/s]\u001b[A"
     ]
    },
    {
     "name": "stdout",
     "output_type": "stream",
     "text": [
      "starting\n",
      "starting\n",
      "starting\n",
      "starting\n"
     ]
    },
    {
     "name": "stderr",
     "output_type": "stream",
     "text": [
      "\n",
      "  0%|          | 711/178561 [00:54<4:39:04, 10.62it/s]\u001b[A"
     ]
    },
    {
     "name": "stdout",
     "output_type": "stream",
     "text": [
      "starting\n",
      "starting\n",
      "starting\n",
      "starting\n",
      "starting\n",
      "starting\n",
      "starting\n",
      "starting\n",
      "startingstartingstarting\n",
      "\n",
      "\n",
      "starting\n",
      "starting\n",
      "starting\n",
      "startingstarting\n",
      "starting\n",
      "\n",
      "starting\n",
      "starting\n"
     ]
    },
    {
     "name": "stderr",
     "output_type": "stream",
     "text": [
      "\n",
      "  0%|          | 714/178561 [00:56<12:31:10,  3.95it/s]\u001b[A"
     ]
    },
    {
     "name": "stdout",
     "output_type": "stream",
     "text": [
      "starting\n",
      "starting\n",
      "starting\n"
     ]
    },
    {
     "name": "stderr",
     "output_type": "stream",
     "text": [
      "\n",
      "  0%|          | 724/178561 [00:57<9:12:55,  5.36it/s] \u001b[A"
     ]
    },
    {
     "name": "stdout",
     "output_type": "stream",
     "text": [
      "startingstartingstarting\n",
      "\n",
      "\n",
      "improper prettymidi loadTrue\n",
      "\n",
      "success!starting\n",
      "\n",
      "dataset/2/22e155c729b7edbdc4f211ae7a5157da.mid\n",
      "starting\n",
      "starting\n",
      "starting\n",
      "starting\n",
      "starting\n",
      "startingstarting\n",
      "\n",
      "startingstarting\n",
      "\n",
      "starting\n",
      "starting\n",
      "starting\n",
      "startingstarting\n",
      "\n",
      "startingstarting\n",
      "\n",
      "False\n",
      "starting\n"
     ]
    },
    {
     "name": "stderr",
     "output_type": "stream",
     "text": [
      "\n",
      "  0%|          | 728/178561 [00:58<11:17:28,  4.37it/s]\u001b[A"
     ]
    },
    {
     "name": "stdout",
     "output_type": "stream",
     "text": [
      "starting\n",
      "starting\n",
      "starting\n",
      "starting\n",
      "starting\n",
      "starting\n",
      "starting"
     ]
    },
    {
     "name": "stderr",
     "output_type": "stream",
     "text": [
      "\n",
      "  0%|          | 760/178561 [00:59<8:12:33,  6.02it/s] \u001b[A"
     ]
    },
    {
     "name": "stdout",
     "output_type": "stream",
     "text": [
      "starting\n",
      "starting\n",
      "\n",
      "starting\n"
     ]
    },
    {
     "name": "stderr",
     "output_type": "stream",
     "text": [
      "\n",
      "  0%|          | 763/178561 [00:59<6:38:21,  7.44it/s]\u001b[A"
     ]
    },
    {
     "name": "stdout",
     "output_type": "stream",
     "text": [
      "starting\n",
      "starting\n",
      "starting\n",
      "starting\n",
      "starting\n",
      "starting\n",
      "starting\n",
      "starting"
     ]
    },
    {
     "name": "stderr",
     "output_type": "stream",
     "text": [
      "\n",
      "  0%|          | 768/178561 [00:59<6:41:00,  7.39it/s]\u001b[A"
     ]
    },
    {
     "name": "stdout",
     "output_type": "stream",
     "text": [
      "\n",
      "Falsestarting\n",
      "\n",
      "starting\n",
      "starting\n"
     ]
    },
    {
     "name": "stderr",
     "output_type": "stream",
     "text": [
      "\n",
      "  0%|          | 777/178561 [01:00<5:00:10,  9.87it/s]\u001b[A"
     ]
    },
    {
     "name": "stdout",
     "output_type": "stream",
     "text": [
      "starting\n",
      "starting\n",
      "starting\n",
      "starting\n",
      "starting\n",
      "starting\n",
      "starting\n",
      "starting\n",
      "starting\n",
      "starting\n",
      "startingstarting\n",
      "\n",
      "starting\n",
      "improper prettymidi load\n",
      "starting\n",
      "starting\n",
      "starting\n",
      "starting\n"
     ]
    },
    {
     "name": "stderr",
     "output_type": "stream",
     "text": [
      "\n",
      "  0%|          | 780/178561 [01:01<9:45:46,  5.06it/s]\u001b[A"
     ]
    },
    {
     "name": "stdout",
     "output_type": "stream",
     "text": [
      "starting\n",
      "starting\n",
      "starting\n",
      "starting\n",
      "startingstarting\n",
      "starting\n",
      "\n",
      "starting\n"
     ]
    },
    {
     "name": "stderr",
     "output_type": "stream",
     "text": [
      "\n",
      "  0%|          | 784/178561 [01:02<10:09:58,  4.86it/s]\u001b[A"
     ]
    },
    {
     "name": "stdout",
     "output_type": "stream",
     "text": [
      "starting\n",
      "startingstarting\n",
      "\n",
      "starting\n",
      "startingstarting\n",
      "\n"
     ]
    },
    {
     "name": "stderr",
     "output_type": "stream",
     "text": [
      "\n",
      "  0%|          | 804/178561 [01:02<7:22:33,  6.69it/s] \u001b[A"
     ]
    },
    {
     "name": "stdout",
     "output_type": "stream",
     "text": [
      "starting\n",
      "starting\n"
     ]
    },
    {
     "name": "stderr",
     "output_type": "stream",
     "text": [
      "\n",
      "  0%|          | 807/178561 [01:02<5:44:15,  8.61it/s]\u001b[A"
     ]
    },
    {
     "name": "stdout",
     "output_type": "stream",
     "text": [
      "starting\n",
      "starting\n",
      "starting\n"
     ]
    },
    {
     "name": "stderr",
     "output_type": "stream",
     "text": [
      "\n",
      "  0%|          | 812/178561 [01:03<5:06:35,  9.66it/s]\u001b[A"
     ]
    },
    {
     "name": "stdout",
     "output_type": "stream",
     "text": [
      "starting\n",
      "starting\n",
      "starting\n",
      "starting\n",
      "Falsestarting\n",
      "\n",
      "starting\n",
      "starting\n",
      "starting\n",
      "starting\n",
      "starting\n"
     ]
    },
    {
     "name": "stderr",
     "output_type": "stream",
     "text": [
      "\n",
      "  0%|          | 815/178561 [01:03<6:56:24,  7.11it/s]\u001b[A"
     ]
    },
    {
     "name": "stdout",
     "output_type": "stream",
     "text": [
      "starting\n",
      "starting"
     ]
    },
    {
     "name": "stderr",
     "output_type": "stream",
     "text": [
      "\n"
     ]
    },
    {
     "name": "stdout",
     "output_type": "stream",
     "text": [
      "\n"
     ]
    },
    {
     "name": "stderr",
     "output_type": "stream",
     "text": [
      "  0%|          | 818/178561 [01:04<5:46:13,  8.56it/s]\u001b[A"
     ]
    },
    {
     "name": "stdout",
     "output_type": "stream",
     "text": [
      "starting\n",
      "starting\n",
      "starting\n"
     ]
    },
    {
     "name": "stderr",
     "output_type": "stream",
     "text": [
      "\n",
      "  0%|          | 824/178561 [01:04<4:37:21, 10.68it/s]\u001b[A"
     ]
    },
    {
     "name": "stdout",
     "output_type": "stream",
     "text": [
      "startingstarting\n",
      "starting\n",
      "\n",
      "starting\n",
      "Falsestarting\n",
      "starting\n",
      "\n",
      "False\n",
      "starting\n"
     ]
    },
    {
     "name": "stderr",
     "output_type": "stream",
     "text": [
      "\n",
      "  0%|          | 828/178561 [01:04<5:52:21,  8.41it/s]\u001b[A"
     ]
    },
    {
     "name": "stdout",
     "output_type": "stream",
     "text": [
      "starting\n",
      "starting\n",
      "startingstarting\n",
      "\n"
     ]
    },
    {
     "name": "stderr",
     "output_type": "stream",
     "text": [
      "\n",
      "  0%|          | 830/178561 [01:05<7:00:39,  7.04it/s]\u001b[A"
     ]
    },
    {
     "name": "stdout",
     "output_type": "stream",
     "text": [
      "startingstarting\n",
      "\n",
      "starting\n",
      "Falsestarting\n",
      "\n",
      "starting\n",
      "starting\n",
      "startingstarting\n",
      "\n",
      "starting\n",
      "starting\n",
      "starting\n",
      "starting\n",
      "starting\n",
      "starting\n",
      "starting\n",
      "starting\n",
      "starting\n",
      "starting\n",
      "startingstarting\n",
      "\n",
      "starting\n",
      "starting\n",
      "starting\n",
      "startingTrue\n",
      "\n",
      "startingsuccess!\n",
      "\n",
      "dataset/2/292047f88967e5f3114f281167a9c12b.mid\n",
      "startingstarting\n",
      "\n",
      "startingstarting\n",
      "\n",
      "starting\n",
      "starting\n",
      "starting\n",
      "starting\n",
      "starting\n",
      "starting\n",
      "starting\n",
      "starting\n",
      "starting\n",
      "starting\n",
      "starting\n",
      "startingstarting\n",
      "\n",
      "starting\n",
      "starting\n",
      "starting\n",
      "starting\n"
     ]
    },
    {
     "name": "stderr",
     "output_type": "stream",
     "text": [
      "\n",
      "  0%|          | 832/178561 [01:09<33:18:13,  1.48it/s]\u001b[A"
     ]
    },
    {
     "name": "stdout",
     "output_type": "stream",
     "text": [
      "starting\n",
      "starting\n",
      "starting"
     ]
    },
    {
     "name": "stderr",
     "output_type": "stream",
     "text": [
      "\n",
      "  0%|          | 887/178561 [01:09<23:23:35,  2.11it/s]\u001b[A"
     ]
    },
    {
     "name": "stdout",
     "output_type": "stream",
     "text": [
      "\n",
      "starting\n",
      "startingstarting\n",
      "\n",
      "starting\n",
      "starting\n",
      "starting\n",
      "startingstarting\n",
      "\n",
      "True\n",
      "success!starting\n",
      "\n",
      "dataset/2/28781bd814e6546d78843e1e4b8c122d.mid\n",
      "startingstarting\n",
      "\n",
      "starting\n",
      "starting\n"
     ]
    },
    {
     "name": "stderr",
     "output_type": "stream",
     "text": [
      "\n",
      "  1%|          | 893/178561 [01:10<18:57:00,  2.60it/s]\u001b[A"
     ]
    },
    {
     "name": "stdout",
     "output_type": "stream",
     "text": [
      "starting\n",
      "startingstarting\n",
      "\n",
      "starting\n",
      "starting\n",
      "starting\n",
      "starting\n",
      "starting\n",
      "starting\n",
      "starting\n",
      "starting\n",
      "starting\n",
      "starting\n",
      "starting\n",
      "starting\n",
      "starting\n",
      "starting"
     ]
    },
    {
     "name": "stderr",
     "output_type": "stream",
     "text": [
      "\n",
      "  1%|          | 904/178561 [01:12<15:16:59,  3.23it/s]\u001b[A"
     ]
    },
    {
     "name": "stdout",
     "output_type": "stream",
     "text": [
      "\n",
      "starting\n",
      "starting\n",
      "starting\n",
      "starting\n",
      "starting\n",
      "startingstarting\n",
      "\n",
      "starting\n",
      "starting\n",
      "starting\n",
      "startingstarting\n",
      "\n",
      "starting\n",
      "startingstarting\n",
      "\n",
      "starting\n",
      "starting\n",
      "starting\n",
      "starting\n"
     ]
    },
    {
     "name": "stderr",
     "output_type": "stream",
     "text": [
      "\n",
      "  1%|          | 913/178561 [01:14<14:17:14,  3.45it/s]\u001b[A"
     ]
    },
    {
     "name": "stdout",
     "output_type": "stream",
     "text": [
      "starting\n",
      "starting\n"
     ]
    },
    {
     "name": "stderr",
     "output_type": "stream",
     "text": [
      "\n",
      "  1%|          | 940/178561 [01:14<10:11:12,  4.84it/s]\u001b[A"
     ]
    },
    {
     "name": "stdout",
     "output_type": "stream",
     "text": [
      "starting\n",
      "starting\n",
      "starting\n",
      "starting\n",
      "starting"
     ]
    },
    {
     "name": "stderr",
     "output_type": "stream",
     "text": [
      "\n"
     ]
    },
    {
     "name": "stdout",
     "output_type": "stream",
     "text": [
      "starting"
     ]
    },
    {
     "name": "stderr",
     "output_type": "stream",
     "text": [
      "  1%|          | 944/178561 [01:14<7:55:21,  6.23it/s] \u001b[A"
     ]
    },
    {
     "name": "stdout",
     "output_type": "stream",
     "text": [
      "\n",
      "\n",
      "starting\n",
      "starting\n",
      "starting\n",
      "starting\n",
      "starting\n",
      "starting\n",
      "starting\n"
     ]
    },
    {
     "name": "stderr",
     "output_type": "stream",
     "text": [
      "\n",
      "  1%|          | 948/178561 [01:15<7:11:50,  6.85it/s]\u001b[A"
     ]
    },
    {
     "name": "stdout",
     "output_type": "stream",
     "text": [
      "startingstarting\n",
      "\n",
      "starting\n",
      "starting\n",
      "starting\n"
     ]
    },
    {
     "name": "stderr",
     "output_type": "stream",
     "text": [
      "\n",
      "  1%|          | 952/178561 [01:15<5:48:31,  8.49it/s]"
     ]
    },
    {
     "name": "stdout",
     "output_type": "stream",
     "text": [
      "startingstarting\n"
     ]
    },
    {
     "name": "stderr",
     "output_type": "stream",
     "text": [
      "\u001b[A"
     ]
    },
    {
     "name": "stdout",
     "output_type": "stream",
     "text": [
      "\n",
      "startingstarting\n",
      "\n",
      "startingstartingstarting\n",
      "starting\n",
      "\n",
      "\n"
     ]
    },
    {
     "name": "stderr",
     "output_type": "stream",
     "text": [
      "\n",
      "  1%|          | 956/178561 [01:15<5:43:31,  8.62it/s]\u001b[A"
     ]
    },
    {
     "name": "stdout",
     "output_type": "stream",
     "text": [
      "starting\n",
      "startingstarting\n",
      "\n",
      "startingstarting\n",
      "\n",
      "starting\n",
      "starting\n",
      "starting\n",
      "starting\n"
     ]
    },
    {
     "name": "stderr",
     "output_type": "stream",
     "text": [
      "\n",
      "  1%|          | 966/178561 [01:16<4:54:57, 10.04it/s]\u001b[A"
     ]
    },
    {
     "name": "stdout",
     "output_type": "stream",
     "text": [
      "starting\n",
      "starting\n"
     ]
    },
    {
     "name": "stderr",
     "output_type": "stream",
     "text": [
      "\n",
      "  1%|          | 975/178561 [01:16<4:09:20, 11.87it/s]\u001b[A"
     ]
    },
    {
     "name": "stdout",
     "output_type": "stream",
     "text": [
      "starting\n",
      "startingstarting\n",
      "\n",
      "startingFalse\n",
      "starting\n",
      "\n",
      "startingstarting\n"
     ]
    },
    {
     "name": "stderr",
     "output_type": "stream",
     "text": [
      "\n"
     ]
    },
    {
     "name": "stdout",
     "output_type": "stream",
     "text": [
      "\n"
     ]
    },
    {
     "name": "stderr",
     "output_type": "stream",
     "text": [
      "  1%|          | 977/178561 [01:17<4:47:57, 10.28it/s]\u001b[A"
     ]
    },
    {
     "name": "stdout",
     "output_type": "stream",
     "text": [
      "startingstarting\n",
      "\n",
      "starting\n",
      "starting\n",
      "starting\n",
      "Truestarting\n"
     ]
    },
    {
     "name": "stderr",
     "output_type": "stream",
     "text": [
      "\n",
      "  1%|          | 986/178561 [01:17<4:04:43, 12.09it/s]\u001b[A"
     ]
    },
    {
     "name": "stdout",
     "output_type": "stream",
     "text": [
      "\n",
      "starting\n",
      "starting\n",
      "starting\n",
      "starting\n"
     ]
    },
    {
     "name": "stderr",
     "output_type": "stream",
     "text": [
      "\n",
      "  1%|          | 989/178561 [01:17<4:08:48, 11.89it/s]\u001b[A"
     ]
    },
    {
     "name": "stdout",
     "output_type": "stream",
     "text": [
      "starting\n",
      "starting\n",
      "starting\n",
      "starting\n",
      "starting\n",
      "starting\n",
      "starting\n"
     ]
    },
    {
     "name": "stderr",
     "output_type": "stream",
     "text": [
      "\n",
      "  1%|          | 992/178561 [01:18<6:04:30,  8.12it/s]\u001b[A"
     ]
    },
    {
     "name": "stdout",
     "output_type": "stream",
     "text": [
      "starting\n",
      "False\n",
      "starting\n",
      "startingstarting\n",
      "\n",
      "starting\n"
     ]
    },
    {
     "name": "stderr",
     "output_type": "stream",
     "text": [
      "\n",
      "  1%|          | 1000/178561 [01:18<4:57:24,  9.95it/s]\u001b[A"
     ]
    },
    {
     "name": "stdout",
     "output_type": "stream",
     "text": [
      "starting\n",
      "startingstarting\n",
      "\n",
      "startingstarting\n",
      "\n"
     ]
    },
    {
     "name": "stderr",
     "output_type": "stream",
     "text": [
      "\n",
      "  1%|          | 1005/178561 [01:19<4:56:57,  9.97it/s]\u001b[A"
     ]
    },
    {
     "name": "stdout",
     "output_type": "stream",
     "text": [
      "startingstartingstarting\n",
      "\n",
      "\n",
      "improper prettymidi loadstarting\n",
      "\n",
      "starting\n",
      "startingstarting\n",
      "\n",
      "starting\n"
     ]
    },
    {
     "name": "stderr",
     "output_type": "stream",
     "text": [
      "\n",
      "  1%|          | 1014/178561 [01:19<4:13:27, 11.68it/s]\u001b[A"
     ]
    },
    {
     "name": "stdout",
     "output_type": "stream",
     "text": [
      "starting\n"
     ]
    },
    {
     "name": "stderr",
     "output_type": "stream",
     "text": [
      "\n",
      "  1%|          | 1017/178561 [01:20<3:47:14, 13.02it/s]\u001b[A"
     ]
    },
    {
     "name": "stdout",
     "output_type": "stream",
     "text": [
      "starting\n",
      "startingstarting\n",
      "\n",
      "starting\n"
     ]
    },
    {
     "name": "stderr",
     "output_type": "stream",
     "text": [
      "\n",
      "  1%|          | 1020/178561 [01:20<4:07:15, 11.97it/s]\u001b[A"
     ]
    },
    {
     "name": "stdout",
     "output_type": "stream",
     "text": [
      "startingstarting\n",
      "\n"
     ]
    },
    {
     "name": "stderr",
     "output_type": "stream",
     "text": [
      "\n",
      "  1%|          | 1025/178561 [01:20<4:10:34, 11.81it/s]\u001b[A"
     ]
    },
    {
     "name": "stdout",
     "output_type": "stream",
     "text": [
      "starting\n",
      "startingstarting\n",
      "\n",
      "starting\n",
      "starting\n"
     ]
    },
    {
     "name": "stderr",
     "output_type": "stream",
     "text": [
      "\n",
      "  1%|          | 1029/178561 [01:21<4:13:01, 11.69it/s]\u001b[A"
     ]
    },
    {
     "name": "stdout",
     "output_type": "stream",
     "text": [
      "startingstarting\n",
      "\n",
      "starting\n"
     ]
    },
    {
     "name": "stderr",
     "output_type": "stream",
     "text": [
      "\n",
      "  1%|          | 1031/178561 [01:21<4:41:34, 10.51it/s]\u001b[A"
     ]
    },
    {
     "name": "stdout",
     "output_type": "stream",
     "text": [
      "starting\n",
      "startingstarting\n",
      "\n",
      "starting\n",
      "starting\n",
      "startingFalse\n",
      "\n",
      "starting\n",
      "starting\n",
      "starting\n",
      "starting\n",
      "starting\n"
     ]
    },
    {
     "name": "stderr",
     "output_type": "stream",
     "text": [
      "\n",
      "  1%|          | 1035/178561 [01:22<6:03:46,  8.13it/s]\u001b[A"
     ]
    },
    {
     "name": "stdout",
     "output_type": "stream",
     "text": [
      "starting\n",
      "startingstartingFalse\n",
      "\n",
      "\n"
     ]
    },
    {
     "name": "stderr",
     "output_type": "stream",
     "text": [
      "\n",
      "  1%|          | 1043/178561 [01:22<4:26:54, 11.09it/s]\u001b[A"
     ]
    },
    {
     "name": "stdout",
     "output_type": "stream",
     "text": [
      "startingstarting\n",
      "starting\n",
      "\n",
      "startingstarting\n",
      "\n",
      "starting\n",
      "starting\n",
      "starting\n"
     ]
    },
    {
     "name": "stderr",
     "output_type": "stream",
     "text": [
      "\n",
      "  1%|          | 1048/178561 [01:22<4:41:56, 10.49it/s]\u001b[A"
     ]
    },
    {
     "name": "stdout",
     "output_type": "stream",
     "text": [
      "starting\n",
      "starting\n",
      "startingstarting\n",
      "\n",
      "improper prettymidi load\n",
      "startingstarting"
     ]
    },
    {
     "name": "stderr",
     "output_type": "stream",
     "text": [
      "\n",
      "  1%|          | 1056/178561 [01:23<3:48:30, 12.95it/s]\u001b[A"
     ]
    },
    {
     "name": "stdout",
     "output_type": "stream",
     "text": [
      "\n",
      "\n",
      "startingstarting\n",
      "starting\n",
      "\n",
      "starting\n",
      "starting\n",
      "starting\n",
      "starting\n",
      "startingstarting\n",
      "starting\n",
      "\n",
      "starting\n",
      "starting\n",
      "starting\n"
     ]
    },
    {
     "name": "stderr",
     "output_type": "stream",
     "text": [
      "\n",
      "  1%|          | 1065/178561 [01:23<3:42:02, 13.32it/s]\u001b[A"
     ]
    },
    {
     "name": "stdout",
     "output_type": "stream",
     "text": [
      "startingstarting\n",
      "\n",
      "starting\n",
      "starting\n"
     ]
    },
    {
     "name": "stderr",
     "output_type": "stream",
     "text": [
      "\n",
      "  1%|          | 1070/178561 [01:24<4:44:53, 10.38it/s]\u001b[A"
     ]
    },
    {
     "name": "stdout",
     "output_type": "stream",
     "text": [
      "starting\n",
      "starting\n",
      "starting\n"
     ]
    },
    {
     "name": "stderr",
     "output_type": "stream",
     "text": [
      "\n",
      "  1%|          | 1073/178561 [01:24<3:59:26, 12.35it/s]\u001b[A"
     ]
    },
    {
     "name": "stdout",
     "output_type": "stream",
     "text": [
      "startingstarting\n",
      "\n",
      "starting\n",
      "starting\n",
      "starting\n",
      "starting\n",
      "improper prettymidi loadstarting\n",
      "\n",
      "starting\n",
      "starting"
     ]
    },
    {
     "name": "stderr",
     "output_type": "stream",
     "text": [
      "\n",
      "  1%|          | 1082/178561 [01:25<4:01:53, 12.23it/s]\u001b[A"
     ]
    },
    {
     "name": "stdout",
     "output_type": "stream",
     "text": [
      "\n",
      "startingstarting\n",
      "\n",
      "starting"
     ]
    },
    {
     "name": "stderr",
     "output_type": "stream",
     "text": [
      "\n",
      "  1%|          | 1091/178561 [01:25<3:08:32, 15.69it/s]\u001b[A"
     ]
    },
    {
     "name": "stdout",
     "output_type": "stream",
     "text": [
      "starting\n",
      "starting\n",
      "\n",
      "starting\n",
      "starting\n",
      "starting\n",
      "improper prettymidi load\n"
     ]
    },
    {
     "name": "stderr",
     "output_type": "stream",
     "text": [
      "\n",
      "  1%|          | 1094/178561 [01:25<4:09:17, 11.86it/s]\u001b[A"
     ]
    },
    {
     "name": "stdout",
     "output_type": "stream",
     "text": [
      "starting\n",
      "starting\n",
      "Falsestarting\n",
      "\n"
     ]
    },
    {
     "name": "stderr",
     "output_type": "stream",
     "text": [
      "\n",
      "  1%|          | 1100/178561 [01:26<3:39:21, 13.48it/s]\u001b[A"
     ]
    },
    {
     "name": "stdout",
     "output_type": "stream",
     "text": [
      "starting\n",
      "starting\n",
      "starting\n"
     ]
    },
    {
     "name": "stderr",
     "output_type": "stream",
     "text": [
      "\n",
      "  1%|          | 1102/178561 [01:26<5:26:07,  9.07it/s]\u001b[A"
     ]
    },
    {
     "name": "stdout",
     "output_type": "stream",
     "text": [
      "starting\n",
      "starting\n",
      "startingstarting\n",
      "\n",
      "starting\n",
      "starting\n"
     ]
    },
    {
     "name": "stderr",
     "output_type": "stream",
     "text": [
      "\n",
      "  1%|          | 1104/178561 [01:26<6:08:48,  8.02it/s]\u001b[A"
     ]
    },
    {
     "name": "stdout",
     "output_type": "stream",
     "text": [
      "starting\n",
      "starting\n",
      "starting\n",
      "starting\n",
      "starting\n",
      "starting\n",
      "starting\n",
      "starting\n",
      "starting\n",
      "startingstarting\n",
      "\n",
      "startingstarting\n",
      "\n",
      "starting\n"
     ]
    },
    {
     "name": "stderr",
     "output_type": "stream",
     "text": [
      "\n",
      "  1%|          | 1107/178561 [01:27<9:33:59,  5.15it/s]\u001b[A"
     ]
    },
    {
     "name": "stdout",
     "output_type": "stream",
     "text": [
      "starting\n",
      "starting\n",
      "starting\n",
      "starting\n",
      "starting\n",
      "False\n",
      "starting\n",
      "starting\n"
     ]
    },
    {
     "name": "stderr",
     "output_type": "stream",
     "text": [
      "\n"
     ]
    },
    {
     "name": "stdout",
     "output_type": "stream",
     "text": [
      "starting"
     ]
    },
    {
     "name": "stderr",
     "output_type": "stream",
     "text": [
      "  1%|          | 1117/178561 [01:28<7:20:30,  6.71it/s]\u001b[A"
     ]
    },
    {
     "name": "stdout",
     "output_type": "stream",
     "text": [
      "starting\n",
      "\n",
      "starting\n",
      "starting\n",
      "starting\n"
     ]
    },
    {
     "name": "stderr",
     "output_type": "stream",
     "text": [
      "\n",
      "  1%|          | 1133/178561 [01:29<6:09:34,  8.00it/s]\u001b[A"
     ]
    },
    {
     "name": "stdout",
     "output_type": "stream",
     "text": [
      "starting\n",
      "startingstarting\n",
      "\n",
      "starting\n",
      "starting\n",
      "starting\n"
     ]
    },
    {
     "name": "stderr",
     "output_type": "stream",
     "text": [
      "\n",
      "  1%|          | 1135/178561 [01:29<6:31:24,  7.56it/s]"
     ]
    },
    {
     "name": "stdout",
     "output_type": "stream",
     "text": [
      "starting"
     ]
    },
    {
     "name": "stderr",
     "output_type": "stream",
     "text": [
      "\u001b[A"
     ]
    },
    {
     "name": "stdout",
     "output_type": "stream",
     "text": [
      "\n",
      "starting"
     ]
    },
    {
     "name": "stderr",
     "output_type": "stream",
     "text": [
      "\n",
      "  1%|          | 1143/178561 [01:29<4:47:59, 10.27it/s]\u001b[A"
     ]
    },
    {
     "name": "stdout",
     "output_type": "stream",
     "text": [
      "\n",
      "starting\n",
      "starting\n",
      "starting\n",
      "starting"
     ]
    },
    {
     "name": "stderr",
     "output_type": "stream",
     "text": [
      "\n",
      "  1%|          | 1146/178561 [01:30<3:54:57, 12.58it/s]\u001b[A"
     ]
    },
    {
     "name": "stdout",
     "output_type": "stream",
     "text": [
      "\n",
      "starting\n",
      "improper prettymidi load\n",
      "starting\n",
      "starting\n",
      "starting\n",
      "starting\n",
      "starting\n",
      "starting\n",
      "starting\n",
      "startingstarting\n",
      "\n",
      "improper prettymidi loadstarting\n",
      "\n",
      "startingstarting\n",
      "\n",
      "starting\n",
      "starting\n",
      "starting\n",
      "starting\n",
      "startingstarting\n",
      "\n",
      "starting\n",
      "starting\n",
      "starting\n",
      "starting\n",
      "starting\n"
     ]
    },
    {
     "name": "stderr",
     "output_type": "stream",
     "text": [
      "\n",
      "  1%|          | 1149/178561 [01:31<10:03:22,  4.90it/s]\u001b[A"
     ]
    },
    {
     "name": "stdout",
     "output_type": "stream",
     "text": [
      "starting\n",
      "starting\n",
      "starting"
     ]
    },
    {
     "name": "stderr",
     "output_type": "stream",
     "text": [
      "\n",
      "  1%|          | 1160/178561 [01:31<7:16:29,  6.77it/s] \u001b[A"
     ]
    },
    {
     "name": "stdout",
     "output_type": "stream",
     "text": [
      "\n",
      "False\n",
      "starting\n",
      "starting\n",
      "startingstarting"
     ]
    },
    {
     "name": "stderr",
     "output_type": "stream",
     "text": [
      "\n"
     ]
    },
    {
     "name": "stdout",
     "output_type": "stream",
     "text": [
      "starting"
     ]
    },
    {
     "name": "stderr",
     "output_type": "stream",
     "text": [
      "  1%|          | 1174/178561 [01:31<5:14:20,  9.41it/s]\u001b[A"
     ]
    },
    {
     "name": "stdout",
     "output_type": "stream",
     "text": [
      "\n",
      "\n",
      "\n",
      "starting\n",
      "starting\n",
      "startingstarting\n",
      "\n",
      "starting\n",
      "starting\n"
     ]
    },
    {
     "name": "stderr",
     "output_type": "stream",
     "text": [
      "\n",
      "  1%|          | 1180/178561 [01:32<5:33:39,  8.86it/s]\u001b[A"
     ]
    },
    {
     "name": "stdout",
     "output_type": "stream",
     "text": [
      "starting\n",
      "starting\n",
      "starting\n",
      "starting\n",
      "startingstarting\n",
      "\n",
      "starting\n",
      "starting\n",
      "starting\n",
      "starting\n",
      "starting\n",
      "True\n",
      "startingsuccess!\n",
      "\n",
      "dataset/2/243b3a413cdacf32690535de4b42d6db.mid\n",
      "starting\n",
      "starting\n"
     ]
    },
    {
     "name": "stderr",
     "output_type": "stream",
     "text": [
      "\n",
      "  1%|          | 1184/178561 [01:33<8:38:05,  5.71it/s]\u001b[A"
     ]
    },
    {
     "name": "stdout",
     "output_type": "stream",
     "text": [
      "starting\n",
      "starting\n",
      "starting\n",
      "starting\n",
      "starting\n",
      "starting"
     ]
    },
    {
     "name": "stderr",
     "output_type": "stream",
     "text": [
      "\n",
      "  1%|          | 1187/178561 [01:34<7:56:25,  6.20it/s]\u001b[A"
     ]
    },
    {
     "name": "stdout",
     "output_type": "stream",
     "text": [
      "\n",
      "starting\n",
      "starting\n",
      "starting\n",
      "startingstarting\n",
      "\n"
     ]
    },
    {
     "name": "stderr",
     "output_type": "stream",
     "text": [
      "\n",
      "  1%|          | 1204/178561 [01:34<5:47:42,  8.50it/s]\u001b[A"
     ]
    },
    {
     "name": "stdout",
     "output_type": "stream",
     "text": [
      "starting\n",
      "startingstarting\n",
      "\n",
      "starting\n",
      "starting\n",
      "starting\n",
      "startingstarting\n",
      "\n",
      "startingstarting\n",
      "\n",
      "improper prettymidi load\n",
      "starting\n",
      "starting\n",
      "starting\n",
      "starting\n",
      "starting\n",
      "False\n",
      "starting\n",
      "starting\n",
      "starting\n",
      "starting\n",
      "startingstarting\n",
      "\n",
      "starting\n",
      "starting\n",
      "starting\n",
      "starting\n",
      "starting\n",
      "starting\n",
      "starting\n",
      "starting\n",
      "starting\n",
      "starting\n",
      "startingstarting\n",
      "\n",
      "starting\n",
      "starting\n",
      "starting\n",
      "starting\n",
      "startingstarting\n",
      "\n",
      "Falsestarting\n",
      "\n",
      "starting\n",
      "starting\n",
      "starting\n",
      "startingTruestarting"
     ]
    },
    {
     "name": "stderr",
     "output_type": "stream",
     "text": [
      "\n"
     ]
    },
    {
     "name": "stdout",
     "output_type": "stream",
     "text": [
      "starting\n"
     ]
    },
    {
     "name": "stderr",
     "output_type": "stream",
     "text": [
      "  1%|          | 1209/178561 [01:50<50:38:22,  1.03s/it]"
     ]
    },
    {
     "name": "stdout",
     "output_type": "stream",
     "text": [
      "\n",
      "\n",
      "\n",
      "success!\n",
      "dataset/2/2821f2a32e2e7733f9ed0215ea9b8da3.mid\n",
      "starting\n",
      "\n",
      "\n",
      "\n",
      "startingstarting\n",
      "improper prettymidi loadstarting\n"
     ]
    },
    {
     "name": "stderr",
     "output_type": "stream",
     "text": [
      "\u001b[A"
     ]
    },
    {
     "name": "stdout",
     "output_type": "stream",
     "text": [
      "starting\n",
      "starting\n",
      "startingstarting\n",
      "\n"
     ]
    },
    {
     "name": "stderr",
     "output_type": "stream",
     "text": [
      "\n",
      "  1%|          | 1269/178561 [01:50<35:30:19,  1.39it/s]\u001b[A"
     ]
    },
    {
     "name": "stdout",
     "output_type": "stream",
     "text": [
      "starting\n",
      "starting\n",
      "starting\n",
      "starting\n",
      "Falsestarting\n",
      "\n",
      "startingstarting\n",
      "\n",
      "starting\n",
      "starting\n",
      "starting\n",
      "starting\n"
     ]
    },
    {
     "name": "stderr",
     "output_type": "stream",
     "text": [
      "\n",
      "  1%|          | 1276/178561 [01:51<27:05:36,  1.82it/s]\u001b[A"
     ]
    },
    {
     "name": "stdout",
     "output_type": "stream",
     "text": [
      "starting\n",
      "starting\n",
      "starting\n",
      "starting\n",
      "startingstarting\n",
      "\n",
      "starting\n",
      "starting\n",
      "False\n",
      "starting\n",
      "starting\n",
      "starting\n",
      "startingstarting\n",
      "\n",
      "starting\n",
      "startingstarting\n",
      "starting\n",
      "\n",
      "starting\n",
      "starting\n",
      "False\n",
      "starting\n",
      "False\n",
      "starting\n",
      "startingstartingstarting\n",
      "\n",
      "\n",
      "starting\n",
      "starting\n",
      "starting\n",
      "starting\n",
      "starting\n",
      "starting\n",
      "starting\n",
      "starting\n",
      "startingstarting\n",
      "\n",
      "starting\n",
      "starting\n",
      "Truestartingstarting\n",
      "\n",
      "starting\n",
      "\n",
      "starting\n",
      "starting\n",
      "starting\n",
      "starting\n",
      "starting\n",
      "starting\n",
      "startingstarting\n",
      "\n",
      "starting\n",
      "startingstarting\n",
      "\n",
      "startingstarting\n",
      "\n",
      "starting\n",
      "starting\n",
      "starting\n",
      "starting\n",
      "starting\n",
      "starting\n",
      "starting\n",
      "startingstarting\n",
      "\n",
      "starting\n",
      "starting\n",
      "starting\n",
      "improper prettymidi loadstarting\n",
      "\n",
      "starting\n",
      "starting\n",
      "starting\n",
      "starting\n",
      "starting"
     ]
    }
   ],
   "source": [
    "import glob\n",
    "import shutil\n",
    "import multiprocessing\n",
    "\n",
    "import numpy as np\n",
    "import pretty_midi\n",
    "from tqdm import tqdm\n",
    "\n",
    "midi_fps = glob.glob('dataset/*/*.mid*')\n",
    "out_dir = 'filelist3.txt'\n",
    "\n",
    "def _task(x):\n",
    "    emit_nesmdb_midi_examples(x, out_dir)\n",
    "\n",
    "with multiprocessing.Pool(8) as p:\n",
    "    r = list(tqdm(p.imap(_task, midi_fps), total=len(midi_fps))) # ~1:37:40"
   ]
  },
  {
   "cell_type": "code",
   "execution_count": null,
   "metadata": {},
   "outputs": [],
   "source": [
    "midi_fps"
   ]
  },
  {
   "cell_type": "code",
   "execution_count": null,
   "metadata": {},
   "outputs": [],
   "source": []
  }
 ],
 "metadata": {
  "kernelspec": {
   "display_name": "wavegenie37",
   "language": "python",
   "name": "wavegenie37"
  },
  "language_info": {
   "codemirror_mode": {
    "name": "ipython",
    "version": 3
   },
   "file_extension": ".py",
   "mimetype": "text/x-python",
   "name": "python",
   "nbconvert_exporter": "python",
   "pygments_lexer": "ipython3",
   "version": "3.7.3"
  }
 },
 "nbformat": 4,
 "nbformat_minor": 4
}
