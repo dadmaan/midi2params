{
 "cells": [
  {
   "cell_type": "markdown",
   "metadata": {},
   "source": [
    "This notebook was created to split `303Dynamic` and `303Static` datasets into their train/val/test splits."
   ]
  },
  {
   "cell_type": "code",
   "execution_count": 1,
   "metadata": {},
   "outputs": [],
   "source": [
    "import os"
   ]
  },
  {
   "cell_type": "markdown",
   "metadata": {},
   "source": [
    "Just switch between `train`, `valid`, `test`, extensions, and folder names as necessary."
   ]
  },
  {
   "cell_type": "code",
   "execution_count": 84,
   "metadata": {},
   "outputs": [],
   "source": [
    "with open('../data/303Static/test.txt') as f:\n",
    "    c = [l.replace('\\n','') for l in f.readlines()]"
   ]
  },
  {
   "cell_type": "code",
   "execution_count": 86,
   "metadata": {},
   "outputs": [
    {
     "name": "stdout",
     "output_type": "stream",
     "text": [
      "../data/303Static/wav/clip_02a9db40237de5def7dcfaf6a1e2b06f.wav\n",
      "../data/303Static/wav/clip_02f1ace4084c3ff20d7c88c5d5ad3283.wav\n",
      "../data/303Static/wav/clip_031e887754263271773b1916ad6411e1.wav\n",
      "../data/303Static/wav/clip_0334f6171ffb2b06c424ad82e0f7eb9b.wav\n",
      "../data/303Static/wav/clip_03416d63f86be2f8afc09d06d86e7e81.wav\n",
      "../data/303Static/wav/clip_035bda69a13ae29c762568de85300b70.wav\n",
      "../data/303Static/wav/clip_03cd608f9e9f530dc4b0494f3bda01c2.wav\n",
      "../data/303Static/wav/clip_040ca44d93eb7ca7346e3a49bde998e7.wav\n",
      "../data/303Static/wav/clip_0419924d7a85cd641320de7695e06228.wav\n",
      "../data/303Static/wav/clip_04b0bfbb7f262be3b3e86a1743a03ac2.wav\n",
      "../data/303Static/wav/clip_04eeba56ef0cf835093217b9e6021f86.wav\n",
      "../data/303Static/wav/clip_050b26d8ffb1c2425377f7ac12182c86.wav\n",
      "../data/303Static/wav/clip_2520f16e4cd780b218fcba6f3ff86ec2.wav\n",
      "../data/303Static/wav/clip_2535009fc3389ad1cc2332f3056ad634.wav\n",
      "../data/303Static/wav/clip_253f4d11610964f9d3b7db30a5f36488.wav\n",
      "../data/303Static/wav/clip_25740fd8a17382de20b36608cbe62e7c.wav\n",
      "../data/303Static/wav/clip_2577f484437ed2e01e053b6e8850bb7f.wav\n",
      "../data/303Static/wav/clip_25798524ef54b70071af1f51affc03ab.wav\n",
      "../data/303Static/wav/clip_257d163f15144583f3bb0b87d055cf84.wav\n",
      "../data/303Static/wav/clip_25b747cec47d385c4ce377ea8c87d1d7.wav\n",
      "../data/303Static/wav/clip_25d443e0cb06fa7239023239df7e686e.wav\n",
      "../data/303Static/wav/clip_25e497fe8c03706dc5e758ae48c76a87.wav\n",
      "../data/303Static/wav/clip_263152429fabd038ac563d5550fe50fe.wav\n",
      "../data/303Static/wav/clip_265357f33cc73b73710ebf5600c3082f.wav\n",
      "../data/303Static/wav/clip_266f5674ebb09ac4cfad1959acb09183.wav\n",
      "../data/303Static/wav/clip_2749e87feddb6ccbe6364b6395b1a481.wav\n",
      "../data/303Static/wav/clip_27a1bc728044769a3ffb93357c307a04.wav\n",
      "../data/303Static/wav/clip_27b28db64fa45bfedade30a1f897cd09.wav\n",
      "../data/303Static/wav/clip_27c7e6deafdfc211b46fd852a4968df4.wav\n",
      "../data/303Static/wav/clip_27ccada517fa7edab71103953e38fef2.wav\n",
      "../data/303Static/wav/clip_27eb20faf960980cdc796d1cf30edd21.wav\n",
      "../data/303Static/wav/clip_280333817a1a2fd42a303bb1494177c2.wav\n",
      "../data/303Static/wav/clip_281283e375ad68316f5f1866e928ed2e.wav\n",
      "../data/303Static/wav/clip_2816d11e3129f02c765b0d68f286da76.wav\n",
      "../data/303Static/wav/clip_2830aa9715caadfe8a86a0287af6384a.wav\n",
      "../data/303Static/wav/clip_28329e4ff3f0dba12331303531b0e73b.wav\n",
      "../data/303Static/wav/clip_284a2b4de50e8c3748b0da7f9da90da3.wav\n",
      "../data/303Static/wav/clip_28cbea5a4c480312715b80d5f29d2b1c.wav\n",
      "../data/303Static/wav/clip_28f152b788a46a0973e10a089d2b215a.wav\n",
      "../data/303Static/wav/clip_290d932f28e00261072317e1d33f8cee.wav\n",
      "../data/303Static/wav/clip_2952616df308c8d6ba1552824ac943a6.wav\n",
      "../data/303Static/wav/clip_2959872302c62c08b071d0cf439ceb48.wav\n",
      "../data/303Static/wav/clip_298acceff4e369c31177f09b41ad6a6f.wav\n",
      "../data/303Static/wav/clip_29a92614409fe4163b9dc0bebc43f37e.wav\n",
      "../data/303Static/wav/clip_29d15e2cd2c7ee87dfcfa30c09dd7066.wav\n",
      "../data/303Static/wav/clip_2a312dc520eb0f152049a038501e560d.wav\n",
      "../data/303Static/wav/clip_2a3c89fdc95ddff8b3662836c1a451c8.wav\n",
      "../data/303Static/wav/clip_2a809c863f26abf4d936281216ab071a.wav\n",
      "../data/303Static/wav/clip_2a9dbc909643525a8cd5bc3c28ddbe9f.wav\n",
      "../data/303Static/wav/clip_2a9f72741c023f13112b44b1fad5a0a9.wav\n",
      "../data/303Static/wav/clip_2aec7a615e888a7ed66eb5c1f1a44f3c.wav\n",
      "../data/303Static/wav/clip_2b21f01003c595da46f6960f7ac59da0.wav\n",
      "../data/303Static/wav/clip_2b2ec93cfc4ae732bc45407b66497a96.wav\n",
      "../data/303Static/wav/clip_2b3a575d348fa6c31026dac129ef4138.wav\n",
      "../data/303Static/wav/clip_2b957508fefc31919e8cebe3a28266e1.wav\n",
      "../data/303Static/wav/clip_2c19ddb250b66bab1edbffb1f0cc6158.wav\n",
      "../data/303Static/wav/clip_2c27c4fca2fa655eb08ff727f6e2311b.wav\n",
      "../data/303Static/wav/clip_2c40dcfaf609cd65182fc3fa4e9cc13b.wav\n",
      "../data/303Static/wav/clip_2c43b32ec8d4fc01876a8efb7ec976b0.wav\n",
      "../data/303Static/wav/clip_2c5f6a865e59a874c04667e0ad6de886.wav\n",
      "../data/303Static/wav/clip_2c75f25f1cd2bf5ccba40ff0333e099d.wav\n",
      "../data/303Static/wav/clip_2c80e6ce0ec7a06a4e0271636eafbaee.wav\n",
      "../data/303Static/wav/clip_2cad1748903b1848ec540095b3a4e1bc.wav\n",
      "../data/303Static/wav/clip_2cb878ff4535c87ede7e56243f796c6f.wav\n",
      "../data/303Static/wav/clip_2d1409d37a8930b257c3a674eaedc5b7.wav\n",
      "../data/303Static/wav/clip_2d1811b3cbb46774d66f282a2063d7c7.wav\n",
      "../data/303Static/wav/clip_2db145103a1f504a88184666fc883008.wav\n",
      "../data/303Static/wav/clip_2db693433fbf5fcb6be1cf729a54d30a.wav\n",
      "../data/303Static/wav/clip_2e2ef5936aae8c376da7aa07c757132b.wav\n",
      "../data/303Static/wav/clip_2e8dad0ab32069e6fbe89bfba8ed13cf.wav\n",
      "../data/303Static/wav/clip_2e948cb04e8d89cf94040267bb2ecc16.wav\n",
      "../data/303Static/wav/clip_2ef2270411d418a8e4df7fce99a7f707.wav\n"
     ]
    }
   ],
   "source": [
    "folder = '../data/303Static/wav'  # changeable\n",
    "subfolder = os.path.join(folder, 'test')  # changeable\n",
    "if not(os.path.exists(subfolder)):\n",
    "    os.makedirs(subfolder)\n",
    "\n",
    "for f_id in c:\n",
    "    fpath = os.path.join(folder, f_id + '.wav')  # changeable\n",
    "    newfpath = os.path.join(subfolder, f_id + '.wav')  # changeable\n",
    "    try:\n",
    "        os.rename(fpath, newfpath)\n",
    "        print(fpath)\n",
    "    except FileNotFoundError as e:\n",
    "        print(fpath + ' already done')\n",
    "        print(e)"
   ]
  },
  {
   "cell_type": "code",
   "execution_count": null,
   "metadata": {},
   "outputs": [],
   "source": []
  }
 ],
 "metadata": {
  "kernelspec": {
   "display_name": "wavegenie37",
   "language": "python",
   "name": "wavegenie37"
  },
  "language_info": {
   "codemirror_mode": {
    "name": "ipython",
    "version": 3
   },
   "file_extension": ".py",
   "mimetype": "text/x-python",
   "name": "python",
   "nbconvert_exporter": "python",
   "pygments_lexer": "ipython3",
   "version": "3.7.3"
  }
 },
 "nbformat": 4,
 "nbformat_minor": 4
}
